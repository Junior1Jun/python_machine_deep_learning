{
 "cells": [
  {
   "cell_type": "code",
   "execution_count": 2,
   "id": "fa61832c",
   "metadata": {},
   "outputs": [],
   "source": [
    "from sklearn.datasets import load_iris\n",
    "iris=load_iris()"
   ]
  },
  {
   "cell_type": "code",
   "execution_count": 3,
   "id": "fd7e1aed",
   "metadata": {},
   "outputs": [],
   "source": [
    "import numpy as np\n",
    "import pandas as pd"
   ]
  },
  {
   "cell_type": "code",
   "execution_count": 9,
   "id": "344465d2",
   "metadata": {},
   "outputs": [],
   "source": [
    "df=pd.DataFrame(iris.data,columns=iris.feature_names)"
   ]
  },
  {
   "cell_type": "markdown",
   "id": "80123100",
   "metadata": {},
   "source": [
    "### scaler 적용"
   ]
  },
  {
   "cell_type": "code",
   "execution_count": 15,
   "id": "c2755c9f",
   "metadata": {},
   "outputs": [],
   "source": [
    "from sklearn.preprocessing import StandardScaler\n",
    "from sklearn.model_selection import train_test_split\n",
    "scaler=StandardScaler()\n",
    "scaler.fit(df)\n",
    "train_scale=scaler.transform(df)\n",
    "scale_df=pd.DataFrame(train_scale,columns=iris['feature_names'])\n",
    "\n",
    "x=scale_df\n",
    "y=iris.target"
   ]
  },
  {
   "cell_type": "code",
   "execution_count": 18,
   "id": "4935e014",
   "metadata": {},
   "outputs": [],
   "source": [
    "x_train,x_test,y_train,y_test=train_test_split(x,y,\n",
    "                                               test_size=0.3,\n",
    "                                               random_state=0)"
   ]
  },
  {
   "cell_type": "markdown",
   "id": "b71b58d7",
   "metadata": {},
   "source": [
    "### KNN\n",
    "- 분류알고리즘\n",
    "- 예측하려는 데이터 X가 주어지면, 기존 데이터 중 속성이 비슷한 k개의 이웃을 먼저 찾는 알고리즘\n",
    "- x를 둘러싼 k개의 가장 가까운 이웃을 찾고, 이웃 데이터가 가장 많이 속해있는 목표 클래스를 예측값으로 결정\n",
    "- k값에 따라 모델의 예측력이 달라지므로 적합한 k값 설정 필요"
   ]
  },
  {
   "cell_type": "code",
   "execution_count": 25,
   "id": "cb2c03b4",
   "metadata": {},
   "outputs": [],
   "source": [
    "from sklearn.neighbors import KNeighborsClassifier\n",
    "from sklearn.metrics import accuracy_score"
   ]
  },
  {
   "cell_type": "code",
   "execution_count": 21,
   "id": "3c4fcea7",
   "metadata": {},
   "outputs": [
    {
     "data": {
      "text/plain": [
       "KNeighborsClassifier()"
      ]
     },
     "execution_count": 21,
     "metadata": {},
     "output_type": "execute_result"
    }
   ],
   "source": [
    "knn = KNeighborsClassifier(n_neighbors=5)\n",
    "knn.fit(x_train,y_train)"
   ]
  },
  {
   "cell_type": "code",
   "execution_count": 23,
   "id": "6e4f62a9",
   "metadata": {},
   "outputs": [
    {
     "name": "stdout",
     "output_type": "stream",
     "text": [
      "예측값 :  [2 1 0 2 0 2 0 1 1 1 2 1 1 1 1 0 1 1 0 0 2 1 0 0 2 0 0 1 1 0 2 1 0 2 2 1 0\n",
      " 2 1 1 2 0 2 0 0]\n"
     ]
    }
   ],
   "source": [
    "pred = knn.predict(x_test)\n",
    "print(\"예측값 : \",pred)"
   ]
  },
  {
   "cell_type": "code",
   "execution_count": 30,
   "id": "7f4dde39",
   "metadata": {},
   "outputs": [
    {
     "name": "stdout",
     "output_type": "stream",
     "text": [
      "Accuracy : 0.977778\n"
     ]
    }
   ],
   "source": [
    "acc = accuracy_score(y_test,pred)\n",
    "print('Accuracy : %4f'%acc)"
   ]
  },
  {
   "cell_type": "markdown",
   "id": "bc4a6765",
   "metadata": {},
   "source": [
    "### 로지스틱 회귀\n",
    "- 분류 알고리즘 / 회귀 X -> 이름만 회귀임.\n",
    "- 시그모디으 함수의 출력값(0 ~ 1 사이)을 각 분류 클래스에 속하게 될 확률값으로 사용\n",
    "- 1에 가까우면 해당 클래스로 분류, 0에 가까우면 해당 클래스가 아니라고 분류함."
   ]
  },
  {
   "cell_type": "code",
   "execution_count": 32,
   "id": "93b55f36",
   "metadata": {},
   "outputs": [],
   "source": [
    "from sklearn.linear_model import LogisticRegression"
   ]
  },
  {
   "cell_type": "code",
   "execution_count": 35,
   "id": "254022cb",
   "metadata": {},
   "outputs": [
    {
     "data": {
      "text/plain": [
       "LogisticRegression()"
      ]
     },
     "execution_count": 35,
     "metadata": {},
     "output_type": "execute_result"
    }
   ],
   "source": [
    "lr=LogisticRegression()\n",
    "lr.fit(x_train,y_train)"
   ]
  },
  {
   "cell_type": "code",
   "execution_count": 36,
   "id": "132e7f75",
   "metadata": {},
   "outputs": [
    {
     "name": "stdout",
     "output_type": "stream",
     "text": [
      "예측값 :  [2 1 0 2 0 2 0 1 1 1 2 1 1 1 1 0 1 1 0 0 2 1 0 0 2 0 0 1 1 0 2 1 0 2 2 1 0\n",
      " 2 1 1 2 0 2 0 0]\n"
     ]
    }
   ],
   "source": [
    "pred=lr.predict(x_test)\n",
    "print(\"예측값 : \",pred)"
   ]
  },
  {
   "cell_type": "code",
   "execution_count": 39,
   "id": "a74b7f0b",
   "metadata": {},
   "outputs": [
    {
     "name": "stdout",
     "output_type": "stream",
     "text": [
      "Accuracy : 0.977778\n"
     ]
    }
   ],
   "source": [
    "acc=accuracy_score(y_test,pred)\n",
    "print('Accuracy : %4f'%acc)"
   ]
  },
  {
   "cell_type": "markdown",
   "id": "9556ab4c",
   "metadata": {},
   "source": [
    "### decision tree\n",
    "- 의사결정나무 모델은 트리 알고리즘 사용\n",
    "- 트리의 각 분기점(node)에는 데이터셋의 피처를 하나씩 위치시킴\n",
    "- 각 분기점에서 해당 피처에 관한 임의의 조건식을 갖고 계속 2개 이상 줄기로 가지를 나누면서 데이터 구분\n",
    "- 이때, 각 분기점에서 분류가 가장 잘 되는 최적의 기준을 찾는 과정이 중요"
   ]
  },
  {
   "cell_type": "code",
   "execution_count": 34,
   "id": "aa5dc2b9",
   "metadata": {},
   "outputs": [],
   "source": [
    "from sklearn.tree import DecisionTreeClassifier"
   ]
  },
  {
   "cell_type": "code",
   "execution_count": 40,
   "id": "783b0713",
   "metadata": {},
   "outputs": [
    {
     "data": {
      "text/plain": [
       "DecisionTreeClassifier(max_depth=3, random_state=0)"
      ]
     },
     "execution_count": 40,
     "metadata": {},
     "output_type": "execute_result"
    }
   ],
   "source": [
    "dt=DecisionTreeClassifier(max_depth = 3, random_state=0)\n",
    "dt.fit(x_train,y_train)"
   ]
  },
  {
   "cell_type": "code",
   "execution_count": 42,
   "id": "698b80fa",
   "metadata": {},
   "outputs": [
    {
     "name": "stdout",
     "output_type": "stream",
     "text": [
      "예측값 :  [2 1 0 2 0 2 0 1 1 1 2 1 1 1 1 0 1 1 0 0 2 1 0 0 2 0 0 1 1 0 2 1 0 2 2 1 0\n",
      " 2 1 1 2 0 2 0 0]\n"
     ]
    }
   ],
   "source": [
    "pred=dt.predict(x_test)\n",
    "print(\"예측값 : \",pred)"
   ]
  },
  {
   "cell_type": "code",
   "execution_count": 44,
   "id": "5f436f30",
   "metadata": {},
   "outputs": [
    {
     "name": "stdout",
     "output_type": "stream",
     "text": [
      "정확도 :0.977778\n"
     ]
    }
   ],
   "source": [
    "acc=accuracy_score(y_test,pred)\n",
    "print('정확도 :%4f'%acc)"
   ]
  }
 ],
 "metadata": {
  "kernelspec": {
   "display_name": "Python 3 (ipykernel)",
   "language": "python",
   "name": "python3"
  },
  "language_info": {
   "codemirror_mode": {
    "name": "ipython",
    "version": 3
   },
   "file_extension": ".py",
   "mimetype": "text/x-python",
   "name": "python",
   "nbconvert_exporter": "python",
   "pygments_lexer": "ipython3",
   "version": "3.9.12"
  }
 },
 "nbformat": 4,
 "nbformat_minor": 5
}
