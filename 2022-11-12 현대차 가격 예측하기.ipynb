{
 "cells": [
  {
   "cell_type": "markdown",
   "id": "33a81722",
   "metadata": {},
   "source": [
    "### 1. 목표 - 현대차 가격 예측하기"
   ]
  },
  {
   "cell_type": "code",
   "execution_count": 4,
   "id": "9af9f537",
   "metadata": {},
   "outputs": [],
   "source": [
    "import pandas as pd\n",
    "import numpy as np\n",
    "from sklearn.preprocessing import OneHotEncoder\n",
    "from sklearn.compose import make_column_transformer\n",
    "from sklearn.ensemble import RandomForestRegressor"
   ]
  },
  {
   "cell_type": "markdown",
   "id": "561dd44d",
   "metadata": {},
   "source": [
    "### 2. 데이터 수집"
   ]
  },
  {
   "cell_type": "code",
   "execution_count": 5,
   "id": "2117423d",
   "metadata": {},
   "outputs": [],
   "source": [
    "train_df=pd.read_excel(\"현대차_가격.xlsx\",sheet_name='train')\n",
    "test_df=pd.read_excel(\"현대차_가격.xlsx\",sheet_name='test')"
   ]
  },
  {
   "cell_type": "code",
   "execution_count": 23,
   "id": "775964ad",
   "metadata": {},
   "outputs": [
    {
     "data": {
      "text/html": [
       "<div>\n",
       "<style scoped>\n",
       "    .dataframe tbody tr th:only-of-type {\n",
       "        vertical-align: middle;\n",
       "    }\n",
       "\n",
       "    .dataframe tbody tr th {\n",
       "        vertical-align: top;\n",
       "    }\n",
       "\n",
       "    .dataframe thead th {\n",
       "        text-align: right;\n",
       "    }\n",
       "</style>\n",
       "<table border=\"1\" class=\"dataframe\">\n",
       "  <thead>\n",
       "    <tr style=\"text-align: right;\">\n",
       "      <th></th>\n",
       "      <th>년식</th>\n",
       "      <th>종류</th>\n",
       "      <th>연비</th>\n",
       "      <th>마력</th>\n",
       "      <th>토크</th>\n",
       "      <th>연료</th>\n",
       "      <th>하이브리드</th>\n",
       "      <th>배기량</th>\n",
       "      <th>중량</th>\n",
       "      <th>변속기</th>\n",
       "    </tr>\n",
       "  </thead>\n",
       "  <tbody>\n",
       "    <tr>\n",
       "      <th>0</th>\n",
       "      <td>2015</td>\n",
       "      <td>준중형</td>\n",
       "      <td>11.8</td>\n",
       "      <td>172</td>\n",
       "      <td>21.0</td>\n",
       "      <td>가솔린</td>\n",
       "      <td>0</td>\n",
       "      <td>1999</td>\n",
       "      <td>1300</td>\n",
       "      <td>자동</td>\n",
       "    </tr>\n",
       "    <tr>\n",
       "      <th>1</th>\n",
       "      <td>2015</td>\n",
       "      <td>준중형</td>\n",
       "      <td>12.3</td>\n",
       "      <td>204</td>\n",
       "      <td>27.0</td>\n",
       "      <td>가솔린</td>\n",
       "      <td>0</td>\n",
       "      <td>1591</td>\n",
       "      <td>1300</td>\n",
       "      <td>자동</td>\n",
       "    </tr>\n",
       "    <tr>\n",
       "      <th>2</th>\n",
       "      <td>2015</td>\n",
       "      <td>소형</td>\n",
       "      <td>15.0</td>\n",
       "      <td>100</td>\n",
       "      <td>13.6</td>\n",
       "      <td>가솔린</td>\n",
       "      <td>0</td>\n",
       "      <td>1368</td>\n",
       "      <td>1035</td>\n",
       "      <td>수동</td>\n",
       "    </tr>\n",
       "    <tr>\n",
       "      <th>3</th>\n",
       "      <td>2014</td>\n",
       "      <td>소형</td>\n",
       "      <td>14.0</td>\n",
       "      <td>140</td>\n",
       "      <td>17.0</td>\n",
       "      <td>가솔린</td>\n",
       "      <td>0</td>\n",
       "      <td>1591</td>\n",
       "      <td>1090</td>\n",
       "      <td>자동</td>\n",
       "    </tr>\n",
       "    <tr>\n",
       "      <th>4</th>\n",
       "      <td>2015</td>\n",
       "      <td>대형</td>\n",
       "      <td>9.6</td>\n",
       "      <td>175</td>\n",
       "      <td>46.0</td>\n",
       "      <td>디젤</td>\n",
       "      <td>0</td>\n",
       "      <td>2497</td>\n",
       "      <td>1990</td>\n",
       "      <td>자동</td>\n",
       "    </tr>\n",
       "    <tr>\n",
       "      <th>...</th>\n",
       "      <td>...</td>\n",
       "      <td>...</td>\n",
       "      <td>...</td>\n",
       "      <td>...</td>\n",
       "      <td>...</td>\n",
       "      <td>...</td>\n",
       "      <td>...</td>\n",
       "      <td>...</td>\n",
       "      <td>...</td>\n",
       "      <td>...</td>\n",
       "    </tr>\n",
       "    <tr>\n",
       "      <th>66</th>\n",
       "      <td>2015</td>\n",
       "      <td>중형</td>\n",
       "      <td>8.5</td>\n",
       "      <td>290</td>\n",
       "      <td>34.8</td>\n",
       "      <td>가솔린</td>\n",
       "      <td>0</td>\n",
       "      <td>3342</td>\n",
       "      <td>1901</td>\n",
       "      <td>자동</td>\n",
       "    </tr>\n",
       "    <tr>\n",
       "      <th>67</th>\n",
       "      <td>2012</td>\n",
       "      <td>소형</td>\n",
       "      <td>13.3</td>\n",
       "      <td>108</td>\n",
       "      <td>13.9</td>\n",
       "      <td>가솔린</td>\n",
       "      <td>0</td>\n",
       "      <td>1396</td>\n",
       "      <td>1040</td>\n",
       "      <td>자동</td>\n",
       "    </tr>\n",
       "    <tr>\n",
       "      <th>68</th>\n",
       "      <td>2015</td>\n",
       "      <td>준중형</td>\n",
       "      <td>12.8</td>\n",
       "      <td>186</td>\n",
       "      <td>41.0</td>\n",
       "      <td>디젤</td>\n",
       "      <td>0</td>\n",
       "      <td>1995</td>\n",
       "      <td>1665</td>\n",
       "      <td>자동</td>\n",
       "    </tr>\n",
       "    <tr>\n",
       "      <th>69</th>\n",
       "      <td>2015</td>\n",
       "      <td>중형</td>\n",
       "      <td>17.7</td>\n",
       "      <td>156</td>\n",
       "      <td>19.3</td>\n",
       "      <td>가솔린</td>\n",
       "      <td>1</td>\n",
       "      <td>1999</td>\n",
       "      <td>1585</td>\n",
       "      <td>자동</td>\n",
       "    </tr>\n",
       "    <tr>\n",
       "      <th>70</th>\n",
       "      <td>2015</td>\n",
       "      <td>대형</td>\n",
       "      <td>13.8</td>\n",
       "      <td>202</td>\n",
       "      <td>45.0</td>\n",
       "      <td>디젤</td>\n",
       "      <td>0</td>\n",
       "      <td>2199</td>\n",
       "      <td>1691</td>\n",
       "      <td>자동</td>\n",
       "    </tr>\n",
       "  </tbody>\n",
       "</table>\n",
       "<p>71 rows × 10 columns</p>\n",
       "</div>"
      ],
      "text/plain": [
       "      년식   종류    연비   마력    토크   연료  하이브리드   배기량    중량 변속기\n",
       "0   2015  준중형  11.8  172  21.0  가솔린      0  1999  1300  자동\n",
       "1   2015  준중형  12.3  204  27.0  가솔린      0  1591  1300  자동\n",
       "2   2015   소형  15.0  100  13.6  가솔린      0  1368  1035  수동\n",
       "3   2014   소형  14.0  140  17.0  가솔린      0  1591  1090  자동\n",
       "4   2015   대형   9.6  175  46.0   디젤      0  2497  1990  자동\n",
       "..   ...  ...   ...  ...   ...  ...    ...   ...   ...  ..\n",
       "66  2015   중형   8.5  290  34.8  가솔린      0  3342  1901  자동\n",
       "67  2012   소형  13.3  108  13.9  가솔린      0  1396  1040  자동\n",
       "68  2015  준중형  12.8  186  41.0   디젤      0  1995  1665  자동\n",
       "69  2015   중형  17.7  156  19.3  가솔린      1  1999  1585  자동\n",
       "70  2015   대형  13.8  202  45.0   디젤      0  2199  1691  자동\n",
       "\n",
       "[71 rows x 10 columns]"
      ]
     },
     "execution_count": 23,
     "metadata": {},
     "output_type": "execute_result"
    }
   ],
   "source": [
    "x_train=train_df.drop(['가격'],axis=1)\n",
    "x_test=test_df.drop(['가격'],axis=1)\n",
    "y_train=train_df['가격']\n",
    "y_test=test_df['가격']\n",
    "x_train"
   ]
  },
  {
   "cell_type": "code",
   "execution_count": 10,
   "id": "4c8dc58c",
   "metadata": {},
   "outputs": [
    {
     "data": {
      "text/plain": [
       "ColumnTransformer(transformers=[('onehotencoder', OneHotEncoder(),\n",
       "                                 ['종류', '연료', '변속기'])])"
      ]
     },
     "execution_count": 10,
     "metadata": {},
     "output_type": "execute_result"
    }
   ],
   "source": [
    "transformer=make_column_transformer((OneHotEncoder(),\n",
    "                                    ['종류','연료','변속기']))\n",
    "\n",
    "transformer.fit(x_train)"
   ]
  },
  {
   "cell_type": "code",
   "execution_count": 11,
   "id": "2050d328",
   "metadata": {},
   "outputs": [],
   "source": [
    "x_train=transformer.transform(x_train)\n",
    "x_test=transformer.transform(x_test)"
   ]
  },
  {
   "cell_type": "markdown",
   "id": "e6b3c9dd",
   "metadata": {},
   "source": [
    "### 모델 생성\n",
    "\n",
    "#### randomforeset"
   ]
  },
  {
   "cell_type": "code",
   "execution_count": 13,
   "id": "681f47cc",
   "metadata": {},
   "outputs": [
    {
     "data": {
      "text/plain": [
       "0.6016575932302191"
      ]
     },
     "execution_count": 13,
     "metadata": {},
     "output_type": "execute_result"
    }
   ],
   "source": [
    "# 모델 생성\n",
    "rf=RandomForestRegressor()\n",
    "\n",
    "# 모델 학습\n",
    "rf.fit(x_train,y_train)\n",
    "\n",
    "# R스코어\n",
    "rf.score(x_train,y_train)"
   ]
  },
  {
   "cell_type": "code",
   "execution_count": 14,
   "id": "195a0398",
   "metadata": {},
   "outputs": [
    {
     "data": {
      "text/plain": [
       "0.49656728554038876"
      ]
     },
     "execution_count": 14,
     "metadata": {},
     "output_type": "execute_result"
    }
   ],
   "source": [
    "# R스코어\n",
    "rf.score(x_test,y_test)"
   ]
  },
  {
   "cell_type": "code",
   "execution_count": 24,
   "id": "9bfd428e",
   "metadata": {},
   "outputs": [],
   "source": [
    "x_train=train_df.drop(['가격'],axis=1)\n",
    "x_test=test_df.drop(['가격'],axis=1)\n",
    "y_train=train_df['가격']\n",
    "y_test=test_df['가격']\n",
    "\n",
    "new_test=[[2015,'중형',6.7,160,30.0,'LPG',0,2000,1800,'수동']]\n",
    "new_test=pd.DataFrame(new_test,columns=x_train.columns.tolist())"
   ]
  },
  {
   "cell_type": "code",
   "execution_count": 26,
   "id": "1ef18c3f",
   "metadata": {},
   "outputs": [
    {
     "name": "stdout",
     "output_type": "stream",
     "text": [
      "[2834.94034782]\n"
     ]
    }
   ],
   "source": [
    "new_test=transformer.transform(new_test)\n",
    "y_predict=rf.predict(new_test)\n",
    "print(y_predict)"
   ]
  },
  {
   "cell_type": "markdown",
   "id": "61691a2e",
   "metadata": {},
   "source": [
    "### ada boost"
   ]
  },
  {
   "cell_type": "code",
   "execution_count": 29,
   "id": "c3ea5f05",
   "metadata": {},
   "outputs": [
    {
     "name": "stdout",
     "output_type": "stream",
     "text": [
      "0.5408748772710584\n",
      "[3151.]\n"
     ]
    }
   ],
   "source": [
    "from sklearn.ensemble import AdaBoostRegressor\n",
    "x_train=train_df.drop(['가격'],axis=1)\n",
    "x_test=test_df.drop(['가격'],axis=1)\n",
    "y_train=train_df['가격']\n",
    "y_test=test_df['가격']\n",
    "transformer.fit(x_train)\n",
    "\n",
    "x_train=transformer.transform(x_train)\n",
    "x_test=transformer.transform(x_test)\n",
    "# 모델생성\n",
    "ada=AdaBoostRegressor()\n",
    "\n",
    "# 모델학습\n",
    "ada.fit(x_train,y_train)\n",
    "\n",
    "# 모델스코어 - 학습데이터, 테스트데이터\n",
    "print(ada.score(x_test,y_test))\n",
    "\n",
    "# new_test 예측\n",
    "y_predict=ada.predict(new_test)\n",
    "print(y_predict)"
   ]
  },
  {
   "cell_type": "markdown",
   "id": "f434cb40",
   "metadata": {},
   "source": [
    "### gradient boosting"
   ]
  },
  {
   "cell_type": "code",
   "execution_count": 30,
   "id": "8cb93b9d",
   "metadata": {},
   "outputs": [],
   "source": [
    "from sklearn.ensemble import GradientBoostingRegressor"
   ]
  },
  {
   "cell_type": "code",
   "execution_count": 33,
   "id": "902e428e",
   "metadata": {},
   "outputs": [
    {
     "name": "stdout",
     "output_type": "stream",
     "text": [
      "0.4849660422367216\n",
      "[3043.6538628]\n"
     ]
    }
   ],
   "source": [
    "x_train=train_df.drop(['가격'],axis=1)\n",
    "x_test=test_df.drop(['가격'],axis=1)\n",
    "y_train=train_df['가격']\n",
    "y_test=test_df['가격']\n",
    "transformer.fit(x_train)\n",
    "\n",
    "x_train=transformer.transform(x_train)\n",
    "x_test=transformer.transform(x_test)\n",
    "# 모델생성\n",
    "gb=GradientBoostingRegressor()\n",
    "\n",
    "# 모델학습\n",
    "gb.fit(x_train,y_train)\n",
    "\n",
    "# 모델스코어 - 학습데이터, 테스트데이터\n",
    "print(gb.score(x_test,y_test))\n",
    "\n",
    "# new_test 예측\n",
    "y_predict=gb.predict(new_test)\n",
    "print(y_predict)"
   ]
  },
  {
   "cell_type": "markdown",
   "id": "d9a2c45a",
   "metadata": {},
   "source": [
    "### xgboost"
   ]
  },
  {
   "cell_type": "code",
   "execution_count": 34,
   "id": "5e74d386",
   "metadata": {},
   "outputs": [],
   "source": [
    "import xgboost as xgb"
   ]
  },
  {
   "cell_type": "code",
   "execution_count": 35,
   "id": "c12b6de8",
   "metadata": {},
   "outputs": [
    {
     "name": "stdout",
     "output_type": "stream",
     "text": [
      "0.4850809005658747\n",
      "[2687.1926]\n"
     ]
    }
   ],
   "source": [
    "x_train=train_df.drop(['가격'],axis=1)\n",
    "x_test=test_df.drop(['가격'],axis=1)\n",
    "y_train=train_df['가격']\n",
    "y_test=test_df['가격']\n",
    "transformer.fit(x_train)\n",
    "\n",
    "x_train=transformer.transform(x_train)\n",
    "x_test=transformer.transform(x_test)\n",
    "# 모델생성\n",
    "xgbr=xgb.XGBRegressor()\n",
    "\n",
    "# 모델학습\n",
    "xgbr.fit(x_train,y_train)\n",
    "\n",
    "# 모델스코어 - 학습데이터, 테스트데이터\n",
    "print(xgbr.score(x_test,y_test))\n",
    "\n",
    "# new_test 예측\n",
    "y_predict=xgbr.predict(new_test)\n",
    "print(y_predict)"
   ]
  },
  {
   "cell_type": "markdown",
   "id": "ad3f6cd4",
   "metadata": {},
   "source": [
    "### lightGBM"
   ]
  },
  {
   "cell_type": "code",
   "execution_count": 37,
   "id": "b9504ec5",
   "metadata": {},
   "outputs": [],
   "source": [
    "from lightgbm import LGBMRegressor"
   ]
  },
  {
   "cell_type": "code",
   "execution_count": 38,
   "id": "97a35acd",
   "metadata": {},
   "outputs": [
    {
     "name": "stdout",
     "output_type": "stream",
     "text": [
      "0.19121671328898493\n",
      "[1195.89195875]\n"
     ]
    }
   ],
   "source": [
    "x_train=train_df.drop(['가격'],axis=1)\n",
    "x_test=test_df.drop(['가격'],axis=1)\n",
    "y_train=train_df['가격']\n",
    "y_test=test_df['가격']\n",
    "transformer.fit(x_train)\n",
    "\n",
    "x_train=transformer.transform(x_train)\n",
    "x_test=transformer.transform(x_test)\n",
    "# 모델생성\n",
    "lgm=LGBMRegressor()\n",
    "\n",
    "# 모델학습\n",
    "lgm.fit(x_train,y_train)\n",
    "\n",
    "# 모델스코어 - 학습데이터, 테스트데이터\n",
    "print(lgm.score(x_test,y_test))\n",
    "\n",
    "# new_test 예측\n",
    "y_predict=lgm.predict(new_test)\n",
    "print(y_predict)"
   ]
  }
 ],
 "metadata": {
  "kernelspec": {
   "display_name": "Python 3 (ipykernel)",
   "language": "python",
   "name": "python3"
  },
  "language_info": {
   "codemirror_mode": {
    "name": "ipython",
    "version": 3
   },
   "file_extension": ".py",
   "mimetype": "text/x-python",
   "name": "python",
   "nbconvert_exporter": "python",
   "pygments_lexer": "ipython3",
   "version": "3.9.12"
  }
 },
 "nbformat": 4,
 "nbformat_minor": 5
}
