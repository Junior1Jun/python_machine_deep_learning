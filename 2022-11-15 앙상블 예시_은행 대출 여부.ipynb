{
 "cells": [
  {
   "cell_type": "markdown",
   "id": "a7318081",
   "metadata": {},
   "source": [
    "## 1. 문제정의 - 은행 대출 승인 여부"
   ]
  },
  {
   "cell_type": "code",
   "execution_count": 21,
   "id": "148eacdf",
   "metadata": {},
   "outputs": [],
   "source": [
    "import pandas as pd\n",
    "from sklearn.preprocessing import OneHotEncoder\n",
    "from sklearn.compose import make_column_transformer\n",
    "from sklearn.preprocessing import LabelEncoder\n",
    "from sklearn.linear_model import LogisticRegression\n",
    "from sklearn.neighbors import KNeighborsClassifier\n",
    "from sklearn.tree import DecisionTreeClassifier\n",
    "from sklearn.ensemble import VotingClassifier\n",
    "import numpy as np"
   ]
  },
  {
   "cell_type": "markdown",
   "id": "65dd549a",
   "metadata": {},
   "source": [
    "## 2. 데이터 수집"
   ]
  },
  {
   "cell_type": "code",
   "execution_count": 22,
   "id": "6e9c90e5",
   "metadata": {},
   "outputs": [],
   "source": [
    "x_train=pd.read_csv(\"bank_x_train.csv\")\n",
    "y_train=pd.read_csv(\"bank_y_train.csv\")\n",
    "x_test=pd.read_csv(\"bank_x_test.csv\")\n",
    "y_test=pd.read_csv(\"bank_y_test.csv\")\n",
    "\n",
    "del x_train['Unnamed: 0']\n",
    "del x_test['Unnamed: 0']\n",
    "del y_train['Unnamed: 0']\n",
    "del y_test['Unnamed: 0']\n",
    "x_train=x_train.drop(['Loan_ID'],axis=1)\n",
    "x_test=x_test.drop(['Loan_ID'],axis=1)"
   ]
  },
  {
   "cell_type": "markdown",
   "id": "f77e68fb",
   "metadata": {},
   "source": [
    "### 원핫인코딩"
   ]
  },
  {
   "cell_type": "code",
   "execution_count": 23,
   "id": "dfce7a9e",
   "metadata": {},
   "outputs": [],
   "source": [
    "transformer=make_column_transformer(\n",
    "    (OneHotEncoder(),\n",
    "    ['Gender','Married','Dependents','Education','Self_Employed','Property_Area']),\n",
    "    remainder='passthrough')"
   ]
  },
  {
   "cell_type": "code",
   "execution_count": 24,
   "id": "9309bb79",
   "metadata": {},
   "outputs": [
    {
     "data": {
      "text/plain": [
       "ColumnTransformer(remainder='passthrough',\n",
       "                  transformers=[('onehotencoder', OneHotEncoder(),\n",
       "                                 ['Gender', 'Married', 'Dependents',\n",
       "                                  'Education', 'Self_Employed',\n",
       "                                  'Property_Area'])])"
      ]
     },
     "execution_count": 24,
     "metadata": {},
     "output_type": "execute_result"
    }
   ],
   "source": [
    "transformer.fit(x_train)"
   ]
  },
  {
   "cell_type": "code",
   "execution_count": 25,
   "id": "716960cb",
   "metadata": {},
   "outputs": [
    {
     "data": {
      "text/plain": [
       "array([[  0.,   1.,   1., ..., 125., 360.,   1.],\n",
       "       [  0.,   1.,   0., ..., 123., 480.,   1.],\n",
       "       [  0.,   1.,   0., ...,  56., 180.,   1.],\n",
       "       ...,\n",
       "       [  0.,   1.,   0., ..., 211., 360.,   1.],\n",
       "       [  0.,   1.,   1., ..., 144., 360.,   1.],\n",
       "       [  0.,   1.,   0., ..., 255., 360.,   1.]])"
      ]
     },
     "execution_count": 25,
     "metadata": {},
     "output_type": "execute_result"
    }
   ],
   "source": [
    "x_train=transformer.transform(x_train)\n",
    "x_test=transformer.transform(x_test)\n",
    "x_train"
   ]
  },
  {
   "cell_type": "code",
   "execution_count": 42,
   "id": "d8b07383",
   "metadata": {},
   "outputs": [],
   "source": [
    "labels=['비승인','승인']\n",
    "le=LabelEncoder()\n",
    "le.fit(y_train)\n",
    "y_train=le.transform(y_train)\n",
    "y_test=le.transform(y_test)"
   ]
  },
  {
   "cell_type": "code",
   "execution_count": 29,
   "id": "23245a41",
   "metadata": {},
   "outputs": [
    {
     "data": {
      "text/plain": [
       "VotingClassifier(estimators=[('lr', LogisticRegression()),\n",
       "                             ('kn', KNeighborsClassifier()),\n",
       "                             ('dt', DecisionTreeClassifier())])"
      ]
     },
     "execution_count": 29,
     "metadata": {},
     "output_type": "execute_result"
    }
   ],
   "source": [
    "#Voting : soft\n",
    "model = VotingClassifier(estimators=[('lr',LogisticRegression()),\n",
    "                                   ('kn',KNeighborsClassifier()),\n",
    "                                   ('dt',DecisionTreeClassifier())])\n",
    "model.fit(x_train,y_train)"
   ]
  },
  {
   "cell_type": "code",
   "execution_count": 30,
   "id": "d1030a87",
   "metadata": {},
   "outputs": [
    {
     "data": {
      "text/plain": [
       "0.8932291666666666"
      ]
     },
     "execution_count": 30,
     "metadata": {},
     "output_type": "execute_result"
    }
   ],
   "source": [
    "model.score(x_train,y_train)"
   ]
  },
  {
   "cell_type": "code",
   "execution_count": 31,
   "id": "0578b040",
   "metadata": {},
   "outputs": [
    {
     "data": {
      "text/plain": [
       "0.7291666666666666"
      ]
     },
     "execution_count": 31,
     "metadata": {},
     "output_type": "execute_result"
    }
   ],
   "source": [
    "model.score(x_test,y_test)"
   ]
  },
  {
   "cell_type": "markdown",
   "id": "7d78a843",
   "metadata": {},
   "source": [
    "#### 새로운 값으로 예측"
   ]
  },
  {
   "cell_type": "code",
   "execution_count": 39,
   "id": "3597214c",
   "metadata": {},
   "outputs": [],
   "source": [
    "x_test=[['Male',\"Yes\",\"0\",\"Graduate\",\"No\",14583,0,436,360,1,'Semiurban']]\n",
    "\n",
    "x_test=pd.DataFrame(x_test,columns=['Gender', 'Married', 'Dependents', 'Education', 'Self_Employed', \n",
    "        'ApplicantIncome', 'CoapplicantIncome', 'LoanAmount', \n",
    "        'Loan_Amount_Term', 'Credit_History', 'Property_Area'])\n",
    "x_test=transformer.transform(x_test)"
   ]
  },
  {
   "cell_type": "code",
   "execution_count": 40,
   "id": "7a4821fe",
   "metadata": {},
   "outputs": [],
   "source": [
    "y_predict=model.predict(x_test)"
   ]
  },
  {
   "cell_type": "code",
   "execution_count": 43,
   "id": "b190394b",
   "metadata": {},
   "outputs": [
    {
     "data": {
      "text/plain": [
       "'승인'"
      ]
     },
     "execution_count": 43,
     "metadata": {},
     "output_type": "execute_result"
    }
   ],
   "source": [
    "labels[y_predict[0]]"
   ]
  }
 ],
 "metadata": {
  "kernelspec": {
   "display_name": "Python 3 (ipykernel)",
   "language": "python",
   "name": "python3"
  },
  "language_info": {
   "codemirror_mode": {
    "name": "ipython",
    "version": 3
   },
   "file_extension": ".py",
   "mimetype": "text/x-python",
   "name": "python",
   "nbconvert_exporter": "python",
   "pygments_lexer": "ipython3",
   "version": "3.9.13"
  }
 },
 "nbformat": 4,
 "nbformat_minor": 5
}
