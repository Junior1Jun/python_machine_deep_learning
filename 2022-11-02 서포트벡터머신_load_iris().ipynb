{
 "cells": [
  {
   "cell_type": "markdown",
   "id": "cb90863d",
   "metadata": {},
   "source": [
    "### 1. 목적 : svc으로 iris 데이터 분류해보기"
   ]
  },
  {
   "cell_type": "code",
   "execution_count": 2,
   "id": "04d67810",
   "metadata": {},
   "outputs": [],
   "source": [
    "import pandas as pd\n",
    "import numpy as np\n",
    "from sklearn.preprocessing import MinMaxScaler\n",
    "from sklearn.model_selection import train_test_split\n",
    "from sklearn.datasets import load_iris\n",
    "from sklearn.preprocessing import LabelEncoder\n",
    "from sklearn.svm import SVC"
   ]
  },
  {
   "cell_type": "markdown",
   "id": "f70bedc7",
   "metadata": {},
   "source": [
    "### 2. 데이터 수집"
   ]
  },
  {
   "cell_type": "code",
   "execution_count": 4,
   "id": "4b3e127b",
   "metadata": {},
   "outputs": [],
   "source": [
    "df=load_iris()\n",
    "x_data=pd.DataFrame(df.data,columns = df.feature_names)\n",
    "y_data=pd.DataFrame(df.target,columns=['species'])"
   ]
  },
  {
   "cell_type": "markdown",
   "id": "0ac08a8a",
   "metadata": {},
   "source": [
    "### 3. 데이터 전처리\n",
    "- 스케일링"
   ]
  },
  {
   "cell_type": "code",
   "execution_count": 8,
   "id": "7684a5b3",
   "metadata": {},
   "outputs": [],
   "source": [
    "scaler = MinMaxScaler()\n",
    "scaler.fit(x_data)\n",
    "\n",
    "x_data=scaler.transform(x_data)"
   ]
  },
  {
   "cell_type": "markdown",
   "id": "0d989187",
   "metadata": {},
   "source": [
    "### 4. 레이블 인코딩"
   ]
  },
  {
   "cell_type": "code",
   "execution_count": 9,
   "id": "80906b42",
   "metadata": {},
   "outputs": [
    {
     "name": "stdout",
     "output_type": "stream",
     "text": [
      "[0 1 2]\n"
     ]
    },
    {
     "name": "stderr",
     "output_type": "stream",
     "text": [
      "C:\\Users\\user\\anaconda3\\lib\\site-packages\\sklearn\\preprocessing\\_label.py:98: DataConversionWarning: A column-vector y was passed when a 1d array was expected. Please change the shape of y to (n_samples, ), for example using ravel().\n",
      "  y = column_or_1d(y, warn=True)\n"
     ]
    }
   ],
   "source": [
    "le=LabelEncoder()\n",
    "le.fit(y_data)\n",
    "print(le.classes_)"
   ]
  },
  {
   "cell_type": "code",
   "execution_count": 11,
   "id": "4dd21b39",
   "metadata": {},
   "outputs": [],
   "source": [
    "labels=['세토사','버시칼라','버지니카']"
   ]
  },
  {
   "cell_type": "code",
   "execution_count": 12,
   "id": "d8d12b68",
   "metadata": {},
   "outputs": [
    {
     "name": "stderr",
     "output_type": "stream",
     "text": [
      "C:\\Users\\user\\anaconda3\\lib\\site-packages\\sklearn\\preprocessing\\_label.py:133: DataConversionWarning: A column-vector y was passed when a 1d array was expected. Please change the shape of y to (n_samples, ), for example using ravel().\n",
      "  y = column_or_1d(y, warn=True)\n"
     ]
    }
   ],
   "source": [
    "y_data=le.transform(y_data)"
   ]
  },
  {
   "cell_type": "markdown",
   "id": "c96b6f07",
   "metadata": {},
   "source": [
    "### 5. 훈련용 데이터와 테스트용 데이터로 분할  (과적합 방지)"
   ]
  },
  {
   "cell_type": "code",
   "execution_count": 15,
   "id": "10a40032",
   "metadata": {},
   "outputs": [],
   "source": [
    "x_train,x_test,y_train,y_test=train_test_split(x_data,y_data,\n",
    "                                               test_size=0.3,\n",
    "                                               random_state=0,\n",
    "                                               stratify=y_data)"
   ]
  },
  {
   "cell_type": "markdown",
   "id": "f3a06c73",
   "metadata": {},
   "source": [
    "### 6. 모델링(생성, 학습)    >> 모델 = 모형 = 알고리즘"
   ]
  },
  {
   "cell_type": "code",
   "execution_count": 17,
   "id": "27f589ad",
   "metadata": {},
   "outputs": [
    {
     "data": {
      "text/plain": [
       "SVC(C=0.1, gamma='auto', probability=True)"
      ]
     },
     "execution_count": 17,
     "metadata": {},
     "output_type": "execute_result"
    }
   ],
   "source": [
    "model=SVC(kernel='rbf', gamma='auto', C=0.1, probability=True)\n",
    "model.fit(x_train,y_train)"
   ]
  },
  {
   "cell_type": "markdown",
   "id": "e505ffce",
   "metadata": {},
   "source": [
    "### 7. 모델 평가"
   ]
  },
  {
   "cell_type": "code",
   "execution_count": 19,
   "id": "2ec0df6b",
   "metadata": {},
   "outputs": [
    {
     "data": {
      "text/plain": [
       "0.9333333333333333"
      ]
     },
     "execution_count": 19,
     "metadata": {},
     "output_type": "execute_result"
    }
   ],
   "source": [
    "model.score(x_train,y_train)"
   ]
  },
  {
   "cell_type": "code",
   "execution_count": 20,
   "id": "d51a34e7",
   "metadata": {},
   "outputs": [
    {
     "data": {
      "text/plain": [
       "0.8666666666666667"
      ]
     },
     "execution_count": 20,
     "metadata": {},
     "output_type": "execute_result"
    }
   ],
   "source": [
    "model.score(x_test,y_test)"
   ]
  }
 ],
 "metadata": {
  "kernelspec": {
   "display_name": "Python 3 (ipykernel)",
   "language": "python",
   "name": "python3"
  },
  "language_info": {
   "codemirror_mode": {
    "name": "ipython",
    "version": 3
   },
   "file_extension": ".py",
   "mimetype": "text/x-python",
   "name": "python",
   "nbconvert_exporter": "python",
   "pygments_lexer": "ipython3",
   "version": "3.9.12"
  }
 },
 "nbformat": 4,
 "nbformat_minor": 5
}
