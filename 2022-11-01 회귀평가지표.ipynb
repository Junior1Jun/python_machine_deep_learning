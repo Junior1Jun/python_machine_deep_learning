{
 "cells": [
  {
   "cell_type": "code",
   "execution_count": 35,
   "id": "f8ebf1bc",
   "metadata": {},
   "outputs": [],
   "source": [
    "from sklearn.model_selection import train_test_split\n",
    "from sklearn.linear_model import LinearRegression\n",
    "from sklearn.metrics import r2_score\n",
    "from sklearn.metrics import mean_absolute_error\n",
    "from sklearn.metrics import mean_squared_error\n",
    "from sklearn.metrics import mean_squared_log_error\n",
    "from sklearn.metrics import make_scorer"
   ]
  },
  {
   "cell_type": "code",
   "execution_count": 36,
   "id": "8119d19f",
   "metadata": {},
   "outputs": [],
   "source": [
    "x_data=[\n",
    "    [2,1],\n",
    "    [3,2],\n",
    "    [3,4],\n",
    "    [5,5],\n",
    "    [7,5],\n",
    "    [2,5],\n",
    "    [8,9],\n",
    "    [9,10],\n",
    "    [6,12],\n",
    "    [9,2],\n",
    "    [6,10],\n",
    "    [2,4]\n",
    "]\n",
    "\n",
    "y_data=[3,5,7,10,12,7,13,13,12,13,12,6]\n",
    "\n",
    "x_train,x_test,y_train,y_test=train_test_split(x_data,y_data,test_size=0.3,random_state=0)"
   ]
  },
  {
   "cell_type": "code",
   "execution_count": 37,
   "id": "c23b7b5e",
   "metadata": {},
   "outputs": [
    {
     "data": {
      "text/plain": [
       "LinearRegression()"
      ]
     },
     "execution_count": 37,
     "metadata": {},
     "output_type": "execute_result"
    }
   ],
   "source": [
    "model=LinearRegression()\n",
    "model.fit(x_train, y_train)"
   ]
  },
  {
   "cell_type": "code",
   "execution_count": 38,
   "id": "7047de5f",
   "metadata": {},
   "outputs": [
    {
     "data": {
      "text/plain": [
       "0.9356057047590941"
      ]
     },
     "execution_count": 38,
     "metadata": {},
     "output_type": "execute_result"
    }
   ],
   "source": [
    "model.score(x_test,y_test)"
   ]
  },
  {
   "cell_type": "code",
   "execution_count": 39,
   "id": "be6a4aa3",
   "metadata": {},
   "outputs": [
    {
     "data": {
      "text/plain": [
       "0.9356057047590941"
      ]
     },
     "execution_count": 39,
     "metadata": {},
     "output_type": "execute_result"
    }
   ],
   "source": [
    "score=make_scorer(r2_score)\n",
    "score(model,x_test,y_test)"
   ]
  },
  {
   "cell_type": "code",
   "execution_count": 40,
   "id": "82d6d4cc",
   "metadata": {},
   "outputs": [
    {
     "data": {
      "text/plain": [
       "0.6021492393141756"
      ]
     },
     "execution_count": 40,
     "metadata": {},
     "output_type": "execute_result"
    }
   ],
   "source": [
    "#MAE\n",
    "score=make_scorer(mean_absolute_error)\n",
    "score(model,x_test,y_test)"
   ]
  },
  {
   "cell_type": "code",
   "execution_count": 41,
   "id": "d49fa76f",
   "metadata": {},
   "outputs": [
    {
     "data": {
      "text/plain": [
       "0.4950311446644644"
      ]
     },
     "execution_count": 41,
     "metadata": {},
     "output_type": "execute_result"
    }
   ],
   "source": [
    "#MSE\n",
    "score=make_scorer(mean_squared_error)\n",
    "score(model,x_test,y_test)"
   ]
  },
  {
   "cell_type": "code",
   "execution_count": 42,
   "id": "3f01ecc2",
   "metadata": {},
   "outputs": [
    {
     "data": {
      "text/plain": [
       "0.7035844971746211"
      ]
     },
     "execution_count": 42,
     "metadata": {},
     "output_type": "execute_result"
    }
   ],
   "source": [
    "#RMSE\n",
    "import numpy as np\n",
    "pred=model.predict(x_test)\n",
    "def rmse(y_true,y_predict):\n",
    "    return np.sqrt(mean_squared_error(y_true,y_predict))\n",
    "\n",
    "rmse(y_test,pred)"
   ]
  },
  {
   "cell_type": "code",
   "execution_count": 43,
   "id": "ac6ef8ab",
   "metadata": {},
   "outputs": [],
   "source": [
    "# 보스턴 주가 예측\n",
    "import numpy as np\n",
    "import pandas as pd\n",
    "import matplotlib.pyplot as plt\n",
    "from sklearn.datasets import load_boston\n",
    "import warnings\n",
    "warnings.filterwarnings('ignore',category=FutureWarning)"
   ]
  },
  {
   "cell_type": "code",
   "execution_count": 44,
   "id": "a800e789",
   "metadata": {},
   "outputs": [
    {
     "data": {
      "text/plain": [
       "Index(['CRIM', 'ZN', 'INDUS', 'CHAS', 'NOX', 'RM', 'AGE', 'DIS', 'RAD', 'TAX',\n",
       "       'PTRATIO', 'B', 'LSTAT'],\n",
       "      dtype='object')"
      ]
     },
     "execution_count": 44,
     "metadata": {},
     "output_type": "execute_result"
    }
   ],
   "source": [
    "boston=load_boston()\n",
    "x=pd.DataFrame(boston.data,columns=boston.feature_names)\n",
    "y=pd.DataFrame(boston.target)\n",
    "x.columns"
   ]
  },
  {
   "cell_type": "code",
   "execution_count": 45,
   "id": "5c587dda",
   "metadata": {},
   "outputs": [],
   "source": [
    "from sklearn.model_selection import train_test_split\n",
    "x_train,x_test,y_train,y_test=train_test_split(x,y,test_size=0.2,random_state=0)"
   ]
  },
  {
   "cell_type": "code",
   "execution_count": 32,
   "id": "4ea63b76",
   "metadata": {
    "scrolled": true
   },
   "outputs": [
    {
     "data": {
      "text/plain": [
       "numpy.ndarray"
      ]
     },
     "execution_count": 32,
     "metadata": {},
     "output_type": "execute_result"
    }
   ],
   "source": [
    "type(x_train)"
   ]
  },
  {
   "cell_type": "code",
   "execution_count": 12,
   "id": "01d51123",
   "metadata": {},
   "outputs": [
    {
     "data": {
      "text/plain": [
       "LinearRegression()"
      ]
     },
     "execution_count": 12,
     "metadata": {},
     "output_type": "execute_result"
    }
   ],
   "source": [
    "from sklearn.linear_model import LinearRegression\n",
    "from sklearn.metrics import mean_squared_error\n",
    "lr=LinearRegression()\n",
    "lr.fit(x_train,y_train)"
   ]
  },
  {
   "cell_type": "code",
   "execution_count": 13,
   "id": "d3b25139",
   "metadata": {},
   "outputs": [
    {
     "data": {
      "text/plain": [
       "array([38.09169493])"
      ]
     },
     "execution_count": 13,
     "metadata": {},
     "output_type": "execute_result"
    }
   ],
   "source": [
    "lr.intercept_"
   ]
  },
  {
   "cell_type": "code",
   "execution_count": 14,
   "id": "449e56a5",
   "metadata": {},
   "outputs": [],
   "source": [
    "train=lr.predict(x_train)\n",
    "test=lr.predict(x_test)"
   ]
  },
  {
   "cell_type": "code",
   "execution_count": 15,
   "id": "1e2a0899",
   "metadata": {},
   "outputs": [],
   "source": [
    "train_score=mean_squared_error(train,y_train)\n",
    "test_score=mean_squared_error(test,y_test)"
   ]
  },
  {
   "cell_type": "code",
   "execution_count": 16,
   "id": "2fbc086b",
   "metadata": {},
   "outputs": [],
   "source": [
    "import mglearn\n",
    "from sklearn.linear_model import LinearRegression\n",
    "from sklearn.model_selection import train_test_split"
   ]
  },
  {
   "cell_type": "code",
   "execution_count": 17,
   "id": "81560580",
   "metadata": {},
   "outputs": [],
   "source": [
    "x,y=mglearn.datasets.make_wave(n_samples=60)\n",
    "x_train,x_test,y_train,y_test=train_test_split(x,y,random_state=0)"
   ]
  },
  {
   "cell_type": "code",
   "execution_count": 18,
   "id": "adcee265",
   "metadata": {
    "scrolled": true
   },
   "outputs": [
    {
     "data": {
      "text/plain": [
       "0.6592061059587275"
      ]
     },
     "execution_count": 18,
     "metadata": {},
     "output_type": "execute_result"
    }
   ],
   "source": [
    "lr=LinearRegression()\n",
    "lr.fit(x_train,y_train)\n",
    "lr.score(x_train,y_train)"
   ]
  },
  {
   "cell_type": "markdown",
   "id": "955c816a",
   "metadata": {},
   "source": [
    "## 보스턴 주택가격 - 선형회귀"
   ]
  },
  {
   "cell_type": "code",
   "execution_count": 48,
   "id": "4de1ba74",
   "metadata": {},
   "outputs": [],
   "source": [
    "import warnings\n",
    "warnings.filterwarnings('ignore',category=FutureWarning)\n",
    "x,y=mglearn.datasets.load_extended_boston()"
   ]
  },
  {
   "cell_type": "code",
   "execution_count": 20,
   "id": "58181e11",
   "metadata": {},
   "outputs": [],
   "source": [
    "# x_train,x_test,y_train,y_test=train_test_split(x,y,test_size=0.2,random_state=0)"
   ]
  },
  {
   "cell_type": "code",
   "execution_count": 21,
   "id": "a7779bb2",
   "metadata": {},
   "outputs": [],
   "source": [
    "# lr=LinearRegression().fit(x_train,y_train)"
   ]
  },
  {
   "cell_type": "code",
   "execution_count": 22,
   "id": "f9b3446e",
   "metadata": {},
   "outputs": [],
   "source": [
    "# train=lr.score(x_train,y_train)\n",
    "# test=lr.score(x_test,y_test)\n",
    "# print(\"훈련 세트 점수 : \",train)\n",
    "# print(\"테스트 세트 점수 : \",test)"
   ]
  },
  {
   "cell_type": "markdown",
   "id": "e9bd13e5",
   "metadata": {},
   "source": [
    "## 릿지 회귀"
   ]
  },
  {
   "cell_type": "code",
   "execution_count": 23,
   "id": "16d9f0ae",
   "metadata": {},
   "outputs": [],
   "source": [
    "from sklearn.linear_model import Ridge"
   ]
  },
  {
   "cell_type": "code",
   "execution_count": 24,
   "id": "0bbb3dd0",
   "metadata": {},
   "outputs": [
    {
     "name": "stdout",
     "output_type": "stream",
     "text": [
      "훈련 세트 점수 :  0.6592057598596808\n",
      "테스트 세트 점수 :  0.6934869152905241\n"
     ]
    }
   ],
   "source": [
    "ridge=Ridge(alpha=0.1).fit(x_train,y_train)\n",
    "train=ridge.score(x_train,y_train)\n",
    "test=ridge.score(x_test,y_test)\n",
    "print(\"훈련 세트 점수 : \",train)\n",
    "print(\"테스트 세트 점수 : \",test)"
   ]
  },
  {
   "cell_type": "markdown",
   "id": "28c76655",
   "metadata": {},
   "source": [
    "## 라쏘"
   ]
  },
  {
   "cell_type": "code",
   "execution_count": 25,
   "id": "b88eddda",
   "metadata": {},
   "outputs": [
    {
     "name": "stdout",
     "output_type": "stream",
     "text": [
      "훈련 세트 점수 :  0.29919037265744886\n",
      "테스트 세트 점수 :  0.3713446332848097\n"
     ]
    }
   ],
   "source": [
    "import numpy as np\n",
    "from sklearn.linear_model import Lasso\n",
    "lasso=Lasso().fit(x_train,y_train)\n",
    "train=lasso.score(x_train,y_train)\n",
    "test=lasso.score(x_test,y_test)\n",
    "print(\"훈련 세트 점수 : \",train)\n",
    "print(\"테스트 세트 점수 : \",test)"
   ]
  },
  {
   "cell_type": "code",
   "execution_count": 26,
   "id": "b697b4c8",
   "metadata": {},
   "outputs": [
    {
     "data": {
      "text/plain": [
       "1"
      ]
     },
     "execution_count": 26,
     "metadata": {},
     "output_type": "execute_result"
    }
   ],
   "source": [
    "np.sum(lasso.coef_ !=0)"
   ]
  },
  {
   "cell_type": "code",
   "execution_count": 27,
   "id": "d5606d92",
   "metadata": {},
   "outputs": [
    {
     "name": "stdout",
     "output_type": "stream",
     "text": [
      "훈련 세트 점수 :  0.6591701043853975\n",
      "테스트 세트 점수 :  0.6955980258586129\n"
     ]
    }
   ],
   "source": [
    "lasso001=Lasso(alpha=0.01,max_iter=10000).fit(x_train,y_train)\n",
    "train=lasso001.score(x_train,y_train)\n",
    "test=lasso001.score(x_test,y_test)\n",
    "print(\"훈련 세트 점수 : \",train)\n",
    "print(\"테스트 세트 점수 : \",test)"
   ]
  },
  {
   "cell_type": "markdown",
   "id": "d1fe9bbf",
   "metadata": {},
   "source": [
    "### 선형회귀 모델 특성확장\n",
    "- 선형회귀는 특성이 적으면 다른 알고리즘에 비해 성능이 낮게 나오기 때문에 특성확장을 사용해서 모델의 복잡도를 증가\n",
    "- 각 컬럼들의 데이터를 곱하여 새로운 특성으로 확장시켜 보자"
   ]
  },
  {
   "cell_type": "code",
   "execution_count": 46,
   "id": "e65621ea",
   "metadata": {},
   "outputs": [],
   "source": [
    "# x=pd.DataFrame(boston.data,columns=boston.feature_names)\n",
    "# y=pd.DataFrame(boston.target)\n",
    "extended_x_train=x_train.copy()"
   ]
  },
  {
   "cell_type": "code",
   "execution_count": 47,
   "id": "9717bf0a",
   "metadata": {},
   "outputs": [
    {
     "name": "stderr",
     "output_type": "stream",
     "text": [
      "C:\\Users\\user\\AppData\\Local\\Temp\\ipykernel_18124\\2326334403.py:3: PerformanceWarning: DataFrame is highly fragmented.  This is usually the result of calling `frame.insert` many times, which has poor performance.  Consider joining all columns at once using pd.concat(axis=1) instead. To get a de-fragmented frame, use `newframe = frame.copy()`\n",
      "  extended_x_train[col1+'x'+col2] = x_train[col1]*x_train[col2]\n",
      "C:\\Users\\user\\AppData\\Local\\Temp\\ipykernel_18124\\2326334403.py:3: PerformanceWarning: DataFrame is highly fragmented.  This is usually the result of calling `frame.insert` many times, which has poor performance.  Consider joining all columns at once using pd.concat(axis=1) instead. To get a de-fragmented frame, use `newframe = frame.copy()`\n",
      "  extended_x_train[col1+'x'+col2] = x_train[col1]*x_train[col2]\n",
      "C:\\Users\\user\\AppData\\Local\\Temp\\ipykernel_18124\\2326334403.py:3: PerformanceWarning: DataFrame is highly fragmented.  This is usually the result of calling `frame.insert` many times, which has poor performance.  Consider joining all columns at once using pd.concat(axis=1) instead. To get a de-fragmented frame, use `newframe = frame.copy()`\n",
      "  extended_x_train[col1+'x'+col2] = x_train[col1]*x_train[col2]\n",
      "C:\\Users\\user\\AppData\\Local\\Temp\\ipykernel_18124\\2326334403.py:3: PerformanceWarning: DataFrame is highly fragmented.  This is usually the result of calling `frame.insert` many times, which has poor performance.  Consider joining all columns at once using pd.concat(axis=1) instead. To get a de-fragmented frame, use `newframe = frame.copy()`\n",
      "  extended_x_train[col1+'x'+col2] = x_train[col1]*x_train[col2]\n",
      "C:\\Users\\user\\AppData\\Local\\Temp\\ipykernel_18124\\2326334403.py:3: PerformanceWarning: DataFrame is highly fragmented.  This is usually the result of calling `frame.insert` many times, which has poor performance.  Consider joining all columns at once using pd.concat(axis=1) instead. To get a de-fragmented frame, use `newframe = frame.copy()`\n",
      "  extended_x_train[col1+'x'+col2] = x_train[col1]*x_train[col2]\n",
      "C:\\Users\\user\\AppData\\Local\\Temp\\ipykernel_18124\\2326334403.py:3: PerformanceWarning: DataFrame is highly fragmented.  This is usually the result of calling `frame.insert` many times, which has poor performance.  Consider joining all columns at once using pd.concat(axis=1) instead. To get a de-fragmented frame, use `newframe = frame.copy()`\n",
      "  extended_x_train[col1+'x'+col2] = x_train[col1]*x_train[col2]\n",
      "C:\\Users\\user\\AppData\\Local\\Temp\\ipykernel_18124\\2326334403.py:3: PerformanceWarning: DataFrame is highly fragmented.  This is usually the result of calling `frame.insert` many times, which has poor performance.  Consider joining all columns at once using pd.concat(axis=1) instead. To get a de-fragmented frame, use `newframe = frame.copy()`\n",
      "  extended_x_train[col1+'x'+col2] = x_train[col1]*x_train[col2]\n",
      "C:\\Users\\user\\AppData\\Local\\Temp\\ipykernel_18124\\2326334403.py:3: PerformanceWarning: DataFrame is highly fragmented.  This is usually the result of calling `frame.insert` many times, which has poor performance.  Consider joining all columns at once using pd.concat(axis=1) instead. To get a de-fragmented frame, use `newframe = frame.copy()`\n",
      "  extended_x_train[col1+'x'+col2] = x_train[col1]*x_train[col2]\n",
      "C:\\Users\\user\\AppData\\Local\\Temp\\ipykernel_18124\\2326334403.py:3: PerformanceWarning: DataFrame is highly fragmented.  This is usually the result of calling `frame.insert` many times, which has poor performance.  Consider joining all columns at once using pd.concat(axis=1) instead. To get a de-fragmented frame, use `newframe = frame.copy()`\n",
      "  extended_x_train[col1+'x'+col2] = x_train[col1]*x_train[col2]\n",
      "C:\\Users\\user\\AppData\\Local\\Temp\\ipykernel_18124\\2326334403.py:3: PerformanceWarning: DataFrame is highly fragmented.  This is usually the result of calling `frame.insert` many times, which has poor performance.  Consider joining all columns at once using pd.concat(axis=1) instead. To get a de-fragmented frame, use `newframe = frame.copy()`\n",
      "  extended_x_train[col1+'x'+col2] = x_train[col1]*x_train[col2]\n",
      "C:\\Users\\user\\AppData\\Local\\Temp\\ipykernel_18124\\2326334403.py:3: PerformanceWarning: DataFrame is highly fragmented.  This is usually the result of calling `frame.insert` many times, which has poor performance.  Consider joining all columns at once using pd.concat(axis=1) instead. To get a de-fragmented frame, use `newframe = frame.copy()`\n",
      "  extended_x_train[col1+'x'+col2] = x_train[col1]*x_train[col2]\n",
      "C:\\Users\\user\\AppData\\Local\\Temp\\ipykernel_18124\\2326334403.py:3: PerformanceWarning: DataFrame is highly fragmented.  This is usually the result of calling `frame.insert` many times, which has poor performance.  Consider joining all columns at once using pd.concat(axis=1) instead. To get a de-fragmented frame, use `newframe = frame.copy()`\n",
      "  extended_x_train[col1+'x'+col2] = x_train[col1]*x_train[col2]\n",
      "C:\\Users\\user\\AppData\\Local\\Temp\\ipykernel_18124\\2326334403.py:3: PerformanceWarning: DataFrame is highly fragmented.  This is usually the result of calling `frame.insert` many times, which has poor performance.  Consider joining all columns at once using pd.concat(axis=1) instead. To get a de-fragmented frame, use `newframe = frame.copy()`\n",
      "  extended_x_train[col1+'x'+col2] = x_train[col1]*x_train[col2]\n",
      "C:\\Users\\user\\AppData\\Local\\Temp\\ipykernel_18124\\2326334403.py:3: PerformanceWarning: DataFrame is highly fragmented.  This is usually the result of calling `frame.insert` many times, which has poor performance.  Consider joining all columns at once using pd.concat(axis=1) instead. To get a de-fragmented frame, use `newframe = frame.copy()`\n",
      "  extended_x_train[col1+'x'+col2] = x_train[col1]*x_train[col2]\n",
      "C:\\Users\\user\\AppData\\Local\\Temp\\ipykernel_18124\\2326334403.py:3: PerformanceWarning: DataFrame is highly fragmented.  This is usually the result of calling `frame.insert` many times, which has poor performance.  Consider joining all columns at once using pd.concat(axis=1) instead. To get a de-fragmented frame, use `newframe = frame.copy()`\n",
      "  extended_x_train[col1+'x'+col2] = x_train[col1]*x_train[col2]\n",
      "C:\\Users\\user\\AppData\\Local\\Temp\\ipykernel_18124\\2326334403.py:3: PerformanceWarning: DataFrame is highly fragmented.  This is usually the result of calling `frame.insert` many times, which has poor performance.  Consider joining all columns at once using pd.concat(axis=1) instead. To get a de-fragmented frame, use `newframe = frame.copy()`\n",
      "  extended_x_train[col1+'x'+col2] = x_train[col1]*x_train[col2]\n",
      "C:\\Users\\user\\AppData\\Local\\Temp\\ipykernel_18124\\2326334403.py:3: PerformanceWarning: DataFrame is highly fragmented.  This is usually the result of calling `frame.insert` many times, which has poor performance.  Consider joining all columns at once using pd.concat(axis=1) instead. To get a de-fragmented frame, use `newframe = frame.copy()`\n",
      "  extended_x_train[col1+'x'+col2] = x_train[col1]*x_train[col2]\n",
      "C:\\Users\\user\\AppData\\Local\\Temp\\ipykernel_18124\\2326334403.py:3: PerformanceWarning: DataFrame is highly fragmented.  This is usually the result of calling `frame.insert` many times, which has poor performance.  Consider joining all columns at once using pd.concat(axis=1) instead. To get a de-fragmented frame, use `newframe = frame.copy()`\n",
      "  extended_x_train[col1+'x'+col2] = x_train[col1]*x_train[col2]\n",
      "C:\\Users\\user\\AppData\\Local\\Temp\\ipykernel_18124\\2326334403.py:3: PerformanceWarning: DataFrame is highly fragmented.  This is usually the result of calling `frame.insert` many times, which has poor performance.  Consider joining all columns at once using pd.concat(axis=1) instead. To get a de-fragmented frame, use `newframe = frame.copy()`\n",
      "  extended_x_train[col1+'x'+col2] = x_train[col1]*x_train[col2]\n",
      "C:\\Users\\user\\AppData\\Local\\Temp\\ipykernel_18124\\2326334403.py:3: PerformanceWarning: DataFrame is highly fragmented.  This is usually the result of calling `frame.insert` many times, which has poor performance.  Consider joining all columns at once using pd.concat(axis=1) instead. To get a de-fragmented frame, use `newframe = frame.copy()`\n",
      "  extended_x_train[col1+'x'+col2] = x_train[col1]*x_train[col2]\n",
      "C:\\Users\\user\\AppData\\Local\\Temp\\ipykernel_18124\\2326334403.py:3: PerformanceWarning: DataFrame is highly fragmented.  This is usually the result of calling `frame.insert` many times, which has poor performance.  Consider joining all columns at once using pd.concat(axis=1) instead. To get a de-fragmented frame, use `newframe = frame.copy()`\n",
      "  extended_x_train[col1+'x'+col2] = x_train[col1]*x_train[col2]\n",
      "C:\\Users\\user\\AppData\\Local\\Temp\\ipykernel_18124\\2326334403.py:3: PerformanceWarning: DataFrame is highly fragmented.  This is usually the result of calling `frame.insert` many times, which has poor performance.  Consider joining all columns at once using pd.concat(axis=1) instead. To get a de-fragmented frame, use `newframe = frame.copy()`\n",
      "  extended_x_train[col1+'x'+col2] = x_train[col1]*x_train[col2]\n",
      "C:\\Users\\user\\AppData\\Local\\Temp\\ipykernel_18124\\2326334403.py:3: PerformanceWarning: DataFrame is highly fragmented.  This is usually the result of calling `frame.insert` many times, which has poor performance.  Consider joining all columns at once using pd.concat(axis=1) instead. To get a de-fragmented frame, use `newframe = frame.copy()`\n",
      "  extended_x_train[col1+'x'+col2] = x_train[col1]*x_train[col2]\n",
      "C:\\Users\\user\\AppData\\Local\\Temp\\ipykernel_18124\\2326334403.py:3: PerformanceWarning: DataFrame is highly fragmented.  This is usually the result of calling `frame.insert` many times, which has poor performance.  Consider joining all columns at once using pd.concat(axis=1) instead. To get a de-fragmented frame, use `newframe = frame.copy()`\n",
      "  extended_x_train[col1+'x'+col2] = x_train[col1]*x_train[col2]\n",
      "C:\\Users\\user\\AppData\\Local\\Temp\\ipykernel_18124\\2326334403.py:3: PerformanceWarning: DataFrame is highly fragmented.  This is usually the result of calling `frame.insert` many times, which has poor performance.  Consider joining all columns at once using pd.concat(axis=1) instead. To get a de-fragmented frame, use `newframe = frame.copy()`\n",
      "  extended_x_train[col1+'x'+col2] = x_train[col1]*x_train[col2]\n",
      "C:\\Users\\user\\AppData\\Local\\Temp\\ipykernel_18124\\2326334403.py:3: PerformanceWarning: DataFrame is highly fragmented.  This is usually the result of calling `frame.insert` many times, which has poor performance.  Consider joining all columns at once using pd.concat(axis=1) instead. To get a de-fragmented frame, use `newframe = frame.copy()`\n",
      "  extended_x_train[col1+'x'+col2] = x_train[col1]*x_train[col2]\n",
      "C:\\Users\\user\\AppData\\Local\\Temp\\ipykernel_18124\\2326334403.py:3: PerformanceWarning: DataFrame is highly fragmented.  This is usually the result of calling `frame.insert` many times, which has poor performance.  Consider joining all columns at once using pd.concat(axis=1) instead. To get a de-fragmented frame, use `newframe = frame.copy()`\n",
      "  extended_x_train[col1+'x'+col2] = x_train[col1]*x_train[col2]\n",
      "C:\\Users\\user\\AppData\\Local\\Temp\\ipykernel_18124\\2326334403.py:3: PerformanceWarning: DataFrame is highly fragmented.  This is usually the result of calling `frame.insert` many times, which has poor performance.  Consider joining all columns at once using pd.concat(axis=1) instead. To get a de-fragmented frame, use `newframe = frame.copy()`\n",
      "  extended_x_train[col1+'x'+col2] = x_train[col1]*x_train[col2]\n",
      "C:\\Users\\user\\AppData\\Local\\Temp\\ipykernel_18124\\2326334403.py:3: PerformanceWarning: DataFrame is highly fragmented.  This is usually the result of calling `frame.insert` many times, which has poor performance.  Consider joining all columns at once using pd.concat(axis=1) instead. To get a de-fragmented frame, use `newframe = frame.copy()`\n",
      "  extended_x_train[col1+'x'+col2] = x_train[col1]*x_train[col2]\n",
      "C:\\Users\\user\\AppData\\Local\\Temp\\ipykernel_18124\\2326334403.py:3: PerformanceWarning: DataFrame is highly fragmented.  This is usually the result of calling `frame.insert` many times, which has poor performance.  Consider joining all columns at once using pd.concat(axis=1) instead. To get a de-fragmented frame, use `newframe = frame.copy()`\n",
      "  extended_x_train[col1+'x'+col2] = x_train[col1]*x_train[col2]\n",
      "C:\\Users\\user\\AppData\\Local\\Temp\\ipykernel_18124\\2326334403.py:3: PerformanceWarning: DataFrame is highly fragmented.  This is usually the result of calling `frame.insert` many times, which has poor performance.  Consider joining all columns at once using pd.concat(axis=1) instead. To get a de-fragmented frame, use `newframe = frame.copy()`\n",
      "  extended_x_train[col1+'x'+col2] = x_train[col1]*x_train[col2]\n",
      "C:\\Users\\user\\AppData\\Local\\Temp\\ipykernel_18124\\2326334403.py:3: PerformanceWarning: DataFrame is highly fragmented.  This is usually the result of calling `frame.insert` many times, which has poor performance.  Consider joining all columns at once using pd.concat(axis=1) instead. To get a de-fragmented frame, use `newframe = frame.copy()`\n",
      "  extended_x_train[col1+'x'+col2] = x_train[col1]*x_train[col2]\n",
      "C:\\Users\\user\\AppData\\Local\\Temp\\ipykernel_18124\\2326334403.py:3: PerformanceWarning: DataFrame is highly fragmented.  This is usually the result of calling `frame.insert` many times, which has poor performance.  Consider joining all columns at once using pd.concat(axis=1) instead. To get a de-fragmented frame, use `newframe = frame.copy()`\n",
      "  extended_x_train[col1+'x'+col2] = x_train[col1]*x_train[col2]\n",
      "C:\\Users\\user\\AppData\\Local\\Temp\\ipykernel_18124\\2326334403.py:3: PerformanceWarning: DataFrame is highly fragmented.  This is usually the result of calling `frame.insert` many times, which has poor performance.  Consider joining all columns at once using pd.concat(axis=1) instead. To get a de-fragmented frame, use `newframe = frame.copy()`\n",
      "  extended_x_train[col1+'x'+col2] = x_train[col1]*x_train[col2]\n",
      "C:\\Users\\user\\AppData\\Local\\Temp\\ipykernel_18124\\2326334403.py:3: PerformanceWarning: DataFrame is highly fragmented.  This is usually the result of calling `frame.insert` many times, which has poor performance.  Consider joining all columns at once using pd.concat(axis=1) instead. To get a de-fragmented frame, use `newframe = frame.copy()`\n",
      "  extended_x_train[col1+'x'+col2] = x_train[col1]*x_train[col2]\n",
      "C:\\Users\\user\\AppData\\Local\\Temp\\ipykernel_18124\\2326334403.py:3: PerformanceWarning: DataFrame is highly fragmented.  This is usually the result of calling `frame.insert` many times, which has poor performance.  Consider joining all columns at once using pd.concat(axis=1) instead. To get a de-fragmented frame, use `newframe = frame.copy()`\n",
      "  extended_x_train[col1+'x'+col2] = x_train[col1]*x_train[col2]\n",
      "C:\\Users\\user\\AppData\\Local\\Temp\\ipykernel_18124\\2326334403.py:3: PerformanceWarning: DataFrame is highly fragmented.  This is usually the result of calling `frame.insert` many times, which has poor performance.  Consider joining all columns at once using pd.concat(axis=1) instead. To get a de-fragmented frame, use `newframe = frame.copy()`\n",
      "  extended_x_train[col1+'x'+col2] = x_train[col1]*x_train[col2]\n",
      "C:\\Users\\user\\AppData\\Local\\Temp\\ipykernel_18124\\2326334403.py:3: PerformanceWarning: DataFrame is highly fragmented.  This is usually the result of calling `frame.insert` many times, which has poor performance.  Consider joining all columns at once using pd.concat(axis=1) instead. To get a de-fragmented frame, use `newframe = frame.copy()`\n",
      "  extended_x_train[col1+'x'+col2] = x_train[col1]*x_train[col2]\n",
      "C:\\Users\\user\\AppData\\Local\\Temp\\ipykernel_18124\\2326334403.py:3: PerformanceWarning: DataFrame is highly fragmented.  This is usually the result of calling `frame.insert` many times, which has poor performance.  Consider joining all columns at once using pd.concat(axis=1) instead. To get a de-fragmented frame, use `newframe = frame.copy()`\n",
      "  extended_x_train[col1+'x'+col2] = x_train[col1]*x_train[col2]\n",
      "C:\\Users\\user\\AppData\\Local\\Temp\\ipykernel_18124\\2326334403.py:3: PerformanceWarning: DataFrame is highly fragmented.  This is usually the result of calling `frame.insert` many times, which has poor performance.  Consider joining all columns at once using pd.concat(axis=1) instead. To get a de-fragmented frame, use `newframe = frame.copy()`\n",
      "  extended_x_train[col1+'x'+col2] = x_train[col1]*x_train[col2]\n",
      "C:\\Users\\user\\AppData\\Local\\Temp\\ipykernel_18124\\2326334403.py:3: PerformanceWarning: DataFrame is highly fragmented.  This is usually the result of calling `frame.insert` many times, which has poor performance.  Consider joining all columns at once using pd.concat(axis=1) instead. To get a de-fragmented frame, use `newframe = frame.copy()`\n",
      "  extended_x_train[col1+'x'+col2] = x_train[col1]*x_train[col2]\n",
      "C:\\Users\\user\\AppData\\Local\\Temp\\ipykernel_18124\\2326334403.py:3: PerformanceWarning: DataFrame is highly fragmented.  This is usually the result of calling `frame.insert` many times, which has poor performance.  Consider joining all columns at once using pd.concat(axis=1) instead. To get a de-fragmented frame, use `newframe = frame.copy()`\n",
      "  extended_x_train[col1+'x'+col2] = x_train[col1]*x_train[col2]\n",
      "C:\\Users\\user\\AppData\\Local\\Temp\\ipykernel_18124\\2326334403.py:3: PerformanceWarning: DataFrame is highly fragmented.  This is usually the result of calling `frame.insert` many times, which has poor performance.  Consider joining all columns at once using pd.concat(axis=1) instead. To get a de-fragmented frame, use `newframe = frame.copy()`\n",
      "  extended_x_train[col1+'x'+col2] = x_train[col1]*x_train[col2]\n",
      "C:\\Users\\user\\AppData\\Local\\Temp\\ipykernel_18124\\2326334403.py:3: PerformanceWarning: DataFrame is highly fragmented.  This is usually the result of calling `frame.insert` many times, which has poor performance.  Consider joining all columns at once using pd.concat(axis=1) instead. To get a de-fragmented frame, use `newframe = frame.copy()`\n",
      "  extended_x_train[col1+'x'+col2] = x_train[col1]*x_train[col2]\n",
      "C:\\Users\\user\\AppData\\Local\\Temp\\ipykernel_18124\\2326334403.py:3: PerformanceWarning: DataFrame is highly fragmented.  This is usually the result of calling `frame.insert` many times, which has poor performance.  Consider joining all columns at once using pd.concat(axis=1) instead. To get a de-fragmented frame, use `newframe = frame.copy()`\n",
      "  extended_x_train[col1+'x'+col2] = x_train[col1]*x_train[col2]\n"
     ]
    },
    {
     "name": "stderr",
     "output_type": "stream",
     "text": [
      "C:\\Users\\user\\AppData\\Local\\Temp\\ipykernel_18124\\2326334403.py:3: PerformanceWarning: DataFrame is highly fragmented.  This is usually the result of calling `frame.insert` many times, which has poor performance.  Consider joining all columns at once using pd.concat(axis=1) instead. To get a de-fragmented frame, use `newframe = frame.copy()`\n",
      "  extended_x_train[col1+'x'+col2] = x_train[col1]*x_train[col2]\n",
      "C:\\Users\\user\\AppData\\Local\\Temp\\ipykernel_18124\\2326334403.py:3: PerformanceWarning: DataFrame is highly fragmented.  This is usually the result of calling `frame.insert` many times, which has poor performance.  Consider joining all columns at once using pd.concat(axis=1) instead. To get a de-fragmented frame, use `newframe = frame.copy()`\n",
      "  extended_x_train[col1+'x'+col2] = x_train[col1]*x_train[col2]\n",
      "C:\\Users\\user\\AppData\\Local\\Temp\\ipykernel_18124\\2326334403.py:3: PerformanceWarning: DataFrame is highly fragmented.  This is usually the result of calling `frame.insert` many times, which has poor performance.  Consider joining all columns at once using pd.concat(axis=1) instead. To get a de-fragmented frame, use `newframe = frame.copy()`\n",
      "  extended_x_train[col1+'x'+col2] = x_train[col1]*x_train[col2]\n",
      "C:\\Users\\user\\AppData\\Local\\Temp\\ipykernel_18124\\2326334403.py:3: PerformanceWarning: DataFrame is highly fragmented.  This is usually the result of calling `frame.insert` many times, which has poor performance.  Consider joining all columns at once using pd.concat(axis=1) instead. To get a de-fragmented frame, use `newframe = frame.copy()`\n",
      "  extended_x_train[col1+'x'+col2] = x_train[col1]*x_train[col2]\n",
      "C:\\Users\\user\\AppData\\Local\\Temp\\ipykernel_18124\\2326334403.py:3: PerformanceWarning: DataFrame is highly fragmented.  This is usually the result of calling `frame.insert` many times, which has poor performance.  Consider joining all columns at once using pd.concat(axis=1) instead. To get a de-fragmented frame, use `newframe = frame.copy()`\n",
      "  extended_x_train[col1+'x'+col2] = x_train[col1]*x_train[col2]\n",
      "C:\\Users\\user\\AppData\\Local\\Temp\\ipykernel_18124\\2326334403.py:3: PerformanceWarning: DataFrame is highly fragmented.  This is usually the result of calling `frame.insert` many times, which has poor performance.  Consider joining all columns at once using pd.concat(axis=1) instead. To get a de-fragmented frame, use `newframe = frame.copy()`\n",
      "  extended_x_train[col1+'x'+col2] = x_train[col1]*x_train[col2]\n",
      "C:\\Users\\user\\AppData\\Local\\Temp\\ipykernel_18124\\2326334403.py:3: PerformanceWarning: DataFrame is highly fragmented.  This is usually the result of calling `frame.insert` many times, which has poor performance.  Consider joining all columns at once using pd.concat(axis=1) instead. To get a de-fragmented frame, use `newframe = frame.copy()`\n",
      "  extended_x_train[col1+'x'+col2] = x_train[col1]*x_train[col2]\n",
      "C:\\Users\\user\\AppData\\Local\\Temp\\ipykernel_18124\\2326334403.py:3: PerformanceWarning: DataFrame is highly fragmented.  This is usually the result of calling `frame.insert` many times, which has poor performance.  Consider joining all columns at once using pd.concat(axis=1) instead. To get a de-fragmented frame, use `newframe = frame.copy()`\n",
      "  extended_x_train[col1+'x'+col2] = x_train[col1]*x_train[col2]\n",
      "C:\\Users\\user\\AppData\\Local\\Temp\\ipykernel_18124\\2326334403.py:3: PerformanceWarning: DataFrame is highly fragmented.  This is usually the result of calling `frame.insert` many times, which has poor performance.  Consider joining all columns at once using pd.concat(axis=1) instead. To get a de-fragmented frame, use `newframe = frame.copy()`\n",
      "  extended_x_train[col1+'x'+col2] = x_train[col1]*x_train[col2]\n",
      "C:\\Users\\user\\AppData\\Local\\Temp\\ipykernel_18124\\2326334403.py:3: PerformanceWarning: DataFrame is highly fragmented.  This is usually the result of calling `frame.insert` many times, which has poor performance.  Consider joining all columns at once using pd.concat(axis=1) instead. To get a de-fragmented frame, use `newframe = frame.copy()`\n",
      "  extended_x_train[col1+'x'+col2] = x_train[col1]*x_train[col2]\n",
      "C:\\Users\\user\\AppData\\Local\\Temp\\ipykernel_18124\\2326334403.py:3: PerformanceWarning: DataFrame is highly fragmented.  This is usually the result of calling `frame.insert` many times, which has poor performance.  Consider joining all columns at once using pd.concat(axis=1) instead. To get a de-fragmented frame, use `newframe = frame.copy()`\n",
      "  extended_x_train[col1+'x'+col2] = x_train[col1]*x_train[col2]\n",
      "C:\\Users\\user\\AppData\\Local\\Temp\\ipykernel_18124\\2326334403.py:3: PerformanceWarning: DataFrame is highly fragmented.  This is usually the result of calling `frame.insert` many times, which has poor performance.  Consider joining all columns at once using pd.concat(axis=1) instead. To get a de-fragmented frame, use `newframe = frame.copy()`\n",
      "  extended_x_train[col1+'x'+col2] = x_train[col1]*x_train[col2]\n",
      "C:\\Users\\user\\AppData\\Local\\Temp\\ipykernel_18124\\2326334403.py:3: PerformanceWarning: DataFrame is highly fragmented.  This is usually the result of calling `frame.insert` many times, which has poor performance.  Consider joining all columns at once using pd.concat(axis=1) instead. To get a de-fragmented frame, use `newframe = frame.copy()`\n",
      "  extended_x_train[col1+'x'+col2] = x_train[col1]*x_train[col2]\n",
      "C:\\Users\\user\\AppData\\Local\\Temp\\ipykernel_18124\\2326334403.py:3: PerformanceWarning: DataFrame is highly fragmented.  This is usually the result of calling `frame.insert` many times, which has poor performance.  Consider joining all columns at once using pd.concat(axis=1) instead. To get a de-fragmented frame, use `newframe = frame.copy()`\n",
      "  extended_x_train[col1+'x'+col2] = x_train[col1]*x_train[col2]\n",
      "C:\\Users\\user\\AppData\\Local\\Temp\\ipykernel_18124\\2326334403.py:3: PerformanceWarning: DataFrame is highly fragmented.  This is usually the result of calling `frame.insert` many times, which has poor performance.  Consider joining all columns at once using pd.concat(axis=1) instead. To get a de-fragmented frame, use `newframe = frame.copy()`\n",
      "  extended_x_train[col1+'x'+col2] = x_train[col1]*x_train[col2]\n",
      "C:\\Users\\user\\AppData\\Local\\Temp\\ipykernel_18124\\2326334403.py:3: PerformanceWarning: DataFrame is highly fragmented.  This is usually the result of calling `frame.insert` many times, which has poor performance.  Consider joining all columns at once using pd.concat(axis=1) instead. To get a de-fragmented frame, use `newframe = frame.copy()`\n",
      "  extended_x_train[col1+'x'+col2] = x_train[col1]*x_train[col2]\n",
      "C:\\Users\\user\\AppData\\Local\\Temp\\ipykernel_18124\\2326334403.py:3: PerformanceWarning: DataFrame is highly fragmented.  This is usually the result of calling `frame.insert` many times, which has poor performance.  Consider joining all columns at once using pd.concat(axis=1) instead. To get a de-fragmented frame, use `newframe = frame.copy()`\n",
      "  extended_x_train[col1+'x'+col2] = x_train[col1]*x_train[col2]\n",
      "C:\\Users\\user\\AppData\\Local\\Temp\\ipykernel_18124\\2326334403.py:3: PerformanceWarning: DataFrame is highly fragmented.  This is usually the result of calling `frame.insert` many times, which has poor performance.  Consider joining all columns at once using pd.concat(axis=1) instead. To get a de-fragmented frame, use `newframe = frame.copy()`\n",
      "  extended_x_train[col1+'x'+col2] = x_train[col1]*x_train[col2]\n",
      "C:\\Users\\user\\AppData\\Local\\Temp\\ipykernel_18124\\2326334403.py:3: PerformanceWarning: DataFrame is highly fragmented.  This is usually the result of calling `frame.insert` many times, which has poor performance.  Consider joining all columns at once using pd.concat(axis=1) instead. To get a de-fragmented frame, use `newframe = frame.copy()`\n",
      "  extended_x_train[col1+'x'+col2] = x_train[col1]*x_train[col2]\n",
      "C:\\Users\\user\\AppData\\Local\\Temp\\ipykernel_18124\\2326334403.py:3: PerformanceWarning: DataFrame is highly fragmented.  This is usually the result of calling `frame.insert` many times, which has poor performance.  Consider joining all columns at once using pd.concat(axis=1) instead. To get a de-fragmented frame, use `newframe = frame.copy()`\n",
      "  extended_x_train[col1+'x'+col2] = x_train[col1]*x_train[col2]\n",
      "C:\\Users\\user\\AppData\\Local\\Temp\\ipykernel_18124\\2326334403.py:3: PerformanceWarning: DataFrame is highly fragmented.  This is usually the result of calling `frame.insert` many times, which has poor performance.  Consider joining all columns at once using pd.concat(axis=1) instead. To get a de-fragmented frame, use `newframe = frame.copy()`\n",
      "  extended_x_train[col1+'x'+col2] = x_train[col1]*x_train[col2]\n",
      "C:\\Users\\user\\AppData\\Local\\Temp\\ipykernel_18124\\2326334403.py:3: PerformanceWarning: DataFrame is highly fragmented.  This is usually the result of calling `frame.insert` many times, which has poor performance.  Consider joining all columns at once using pd.concat(axis=1) instead. To get a de-fragmented frame, use `newframe = frame.copy()`\n",
      "  extended_x_train[col1+'x'+col2] = x_train[col1]*x_train[col2]\n",
      "C:\\Users\\user\\AppData\\Local\\Temp\\ipykernel_18124\\2326334403.py:3: PerformanceWarning: DataFrame is highly fragmented.  This is usually the result of calling `frame.insert` many times, which has poor performance.  Consider joining all columns at once using pd.concat(axis=1) instead. To get a de-fragmented frame, use `newframe = frame.copy()`\n",
      "  extended_x_train[col1+'x'+col2] = x_train[col1]*x_train[col2]\n",
      "C:\\Users\\user\\AppData\\Local\\Temp\\ipykernel_18124\\2326334403.py:3: PerformanceWarning: DataFrame is highly fragmented.  This is usually the result of calling `frame.insert` many times, which has poor performance.  Consider joining all columns at once using pd.concat(axis=1) instead. To get a de-fragmented frame, use `newframe = frame.copy()`\n",
      "  extended_x_train[col1+'x'+col2] = x_train[col1]*x_train[col2]\n",
      "C:\\Users\\user\\AppData\\Local\\Temp\\ipykernel_18124\\2326334403.py:3: PerformanceWarning: DataFrame is highly fragmented.  This is usually the result of calling `frame.insert` many times, which has poor performance.  Consider joining all columns at once using pd.concat(axis=1) instead. To get a de-fragmented frame, use `newframe = frame.copy()`\n",
      "  extended_x_train[col1+'x'+col2] = x_train[col1]*x_train[col2]\n",
      "C:\\Users\\user\\anaconda3\\lib\\site-packages\\sklearn\\linear_model\\_coordinate_descent.py:647: ConvergenceWarning: Objective did not converge. You might want to increase the number of iterations, check the scale of the features or consider increasing regularisation. Duality gap: 1.803e+03, tolerance: 3.440e+00\n",
      "  model = cd_fast.enet_coordinate_descent(\n"
     ]
    }
   ],
   "source": [
    "for col1 in x_train.columns:\n",
    "    for col2 in x_train.columns:\n",
    "        extended_x_train[col1+'x'+col2] = x_train[col1]*x_train[col2]\n",
    "lasso=Lasso().fit(extended_x_train,y_train)\n",
    "#pre_train_lasso=lasso.predict(extended_x_train)\n"
   ]
  },
  {
   "cell_type": "code",
   "execution_count": null,
   "id": "1ab52b00",
   "metadata": {},
   "outputs": [],
   "source": []
  }
 ],
 "metadata": {
  "kernelspec": {
   "display_name": "Python 3 (ipykernel)",
   "language": "python",
   "name": "python3"
  },
  "language_info": {
   "codemirror_mode": {
    "name": "ipython",
    "version": 3
   },
   "file_extension": ".py",
   "mimetype": "text/x-python",
   "name": "python",
   "nbconvert_exporter": "python",
   "pygments_lexer": "ipython3",
   "version": "3.9.12"
  }
 },
 "nbformat": 4,
 "nbformat_minor": 5
}
