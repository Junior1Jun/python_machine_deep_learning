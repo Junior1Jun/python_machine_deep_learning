{
  "cells": [
    {
      "cell_type": "code",
      "execution_count": null,
      "metadata": {
        "colab": {
          "base_uri": "https://localhost:8080/"
        },
        "id": "8FWABUwqC8Io",
        "outputId": "a5970479-2b5c-429c-a5a2-6d3abb3cb2ba"
      },
      "outputs": [
        {
          "name": "stdout",
          "output_type": "stream",
          "text": [
            "Cloning into 'yemoonsaBigdata'...\n",
            "remote: Enumerating objects: 485, done.\u001b[K\n",
            "remote: Counting objects: 100% (122/122), done.\u001b[K\n",
            "remote: Compressing objects: 100% (78/78), done.\u001b[K\n",
            "remote: Total 485 (delta 66), reused 49 (delta 44), pack-reused 363\u001b[K\n",
            "Receiving objects: 100% (485/485), 8.89 MiB | 20.22 MiB/s, done.\n",
            "Resolving deltas: 100% (251/251), done.\n"
          ]
        }
      ],
      "source": [
        "# 고객의 여행보험 가입 여부를 예측하는 모델 생성\n",
        "# 모델 생성 후, 모형의 정확도를 평가함"
      ]
    },
    {
      "cell_type": "code",
      "execution_count": null,
      "metadata": {},
      "outputs": [],
      "source": [
        "!git clone https://github.com/AnalyticsKnight/yemoonsaBigdata"
      ]
    },
    {
      "cell_type": "code",
      "execution_count": 2,
      "metadata": {
        "id": "4IUyWD4yQ6fA"
      },
      "outputs": [],
      "source": [
        "import pandas as pd\n",
        "from sklearn.model_selection import train_test_split\n",
        "from sklearn.preprocessing import StandardScaler\n",
        "from sklearn.preprocessing import LabelEncoder\n",
        "from sklearn.ensemble import RandomForestClassifier\n",
        "from sklearn.metrics import accuracy_score,roc_auc_score"
      ]
    },
    {
      "cell_type": "code",
      "execution_count": 3,
      "metadata": {
        "id": "uheW9j_wQ-FA"
      },
      "outputs": [],
      "source": [
        "# 데이터 수집\n",
        "train=pd.read_csv('./yemoonsaBigdata/datasets/Part3/304_travel_insurance_train.csv')\n",
        "X_test=pd.read_csv('./yemoonsaBigdata/datasets/Part3/304_travel_insurance_test.csv')"
      ]
    },
    {
      "cell_type": "code",
      "execution_count": 4,
      "metadata": {
        "id": "0wJqhSlqRCUV"
      },
      "outputs": [],
      "source": [
        "# 독립변수와 종속변수로 분리\n",
        "X_train=train.drop(['TravelInsurance'],axis=1)\n",
        "Y_train=train[['TravelInsurance']]"
      ]
    },
    {
      "cell_type": "code",
      "execution_count": 5,
      "metadata": {
        "id": "SMs-0_tORCav"
      },
      "outputs": [],
      "source": [
        "# 수치형 변수, 범주형 변수, 종속변수, 삭제할 변수의 이름들을 정함.\n",
        "Col_num=['Age','AnnualIncome','FamilyMembers']\n",
        "Col_cat=['Employment Type','GraduateOrNot','ChronicDiseases','FrequentFlyer','EverTravelledAbroad']\n",
        "Col_Y=['TrvelInsurance']\n",
        "Col_del=['ID']\n",
        "\n",
        "\n",
        "X_train=X_train.drop(Col_del,axis=1)\n",
        "X_test=X_test.drop(Col_del,axis=1)\n",
        "\n",
        "\n",
        "X=pd.concat([X_train,X_test],axis=0)"
      ]
    },
    {
      "cell_type": "code",
      "execution_count": 6,
      "metadata": {
        "id": "kmjrnIxqRR4X"
      },
      "outputs": [],
      "source": [
        "# 레이블 인코딩을 통해 범주형 변수의 값들을 수치화함.\n",
        "for _col in Col_cat:\n",
        "  le=LabelEncoder()\n",
        "  le.fit(X[_col])\n",
        "  X_train[_col]=le.transform(X_train[_col])\n",
        "  X_test[_col]=le.transform(X_test[_col])"
      ]
    },
    {
      "cell_type": "code",
      "execution_count": 7,
      "metadata": {
        "id": "m-5f4qJJRTr7"
      },
      "outputs": [],
      "source": [
        "# 학습용 데이터셋과 테스트용 데이터셋으로 분리\n",
        "X_tr,X_val,Y_tr,Y_val=train_test_split(X_train,Y_train,test_size=0.3,stratify=Y_train)"
      ]
    },
    {
      "cell_type": "code",
      "execution_count": 8,
      "metadata": {
        "id": "EROk57NORVe0"
      },
      "outputs": [],
      "source": [
        "# 수치형 변수에 대하여 표준화(단위 통일)\n",
        "scaler=StandardScaler()\n",
        "scaler.fit(X_tr[Col_num])\n",
        "X_tr[Col_num]=scaler.transform(X_tr[Col_num])\n",
        "X_val[Col_num]=scaler.transform(X_val[Col_num])\n",
        "X_test[Col_num]=scaler.transform(X_test[Col_num])"
      ]
    },
    {
      "cell_type": "code",
      "execution_count": 9,
      "metadata": {
        "colab": {
          "base_uri": "https://localhost:8080/"
        },
        "id": "NnrH1l4QRYsN",
        "outputId": "4512132b-5efa-46ba-918a-d5fee14061ba"
      },
      "outputs": [
        {
          "data": {
            "text/plain": [
              "RandomForestClassifier()"
            ]
          },
          "execution_count": 9,
          "metadata": {},
          "output_type": "execute_result"
        }
      ],
      "source": [
        "# 랜덤포레스트 모형 객체 정의\n",
        "model_rf=RandomForestClassifier()\n",
        "\n",
        "# 랜덤포레스트 모형 구축\n",
        "model_rf.fit(X_tr,Y_tr.values.ravel())"
      ]
    },
    {
      "cell_type": "code",
      "execution_count": 10,
      "metadata": {
        "id": "fDSP-MfwRbD_"
      },
      "outputs": [],
      "source": [
        "# 예측값 생성\n",
        "y_pred_val=model_rf.predict(X_val)"
      ]
    },
    {
      "cell_type": "code",
      "execution_count": 11,
      "metadata": {
        "colab": {
          "base_uri": "https://localhost:8080/"
        },
        "id": "eveQTP8xRgWn",
        "outputId": "6c5c1b5b-dd10-4ae4-b663-66c4de7bff2a"
      },
      "outputs": [
        {
          "name": "stdout",
          "output_type": "stream",
          "text": [
            "0.7897091722595079\n"
          ]
        }
      ],
      "source": [
        "# 모형 평가\n",
        "ac_score=accuracy_score(Y_val,y_pred_val)\n",
        "print(ac_score)"
      ]
    }
  ],
  "metadata": {
    "colab": {
      "collapsed_sections": [],
      "provenance": []
    },
    "kernelspec": {
      "display_name": "Python 3",
      "name": "python3"
    },
    "language_info": {
      "name": "python"
    }
  },
  "nbformat": 4,
  "nbformat_minor": 0
}
