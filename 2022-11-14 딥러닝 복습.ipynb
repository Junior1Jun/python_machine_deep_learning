{
  "nbformat": 4,
  "nbformat_minor": 0,
  "metadata": {
    "colab": {
      "provenance": []
    },
    "kernelspec": {
      "name": "python3",
      "display_name": "Python 3"
    },
    "language_info": {
      "name": "python"
    }
  },
  "cells": [
    {
      "cell_type": "code",
      "execution_count": 1,
      "metadata": {
        "id": "JD2vA7CAUNHM"
      },
      "outputs": [],
      "source": [
        "from tensorflow.keras.models import Sequential    # 텐서플로의 케라스에서 필요한 함수들 호출 \n",
        "from tensorflow.keras.layers import Dense         # 데이터를 다루는데 필요한 라이브러리를 불러옵니다.\n",
        "import numpy as np"
      ]
    },
    {
      "cell_type": "code",
      "source": [
        "!git clone https://github.com/taehojo/data.git    # 깃허브에 준비된 데이터를 가져옵니다."
      ],
      "metadata": {
        "colab": {
          "base_uri": "https://localhost:8080/"
        },
        "id": "A_MzaNYsUVQR",
        "outputId": "85d4ef8b-12e5-4098-d8c1-b8678e5683e2"
      },
      "execution_count": 2,
      "outputs": [
        {
          "output_type": "stream",
          "name": "stdout",
          "text": [
            "Cloning into 'data'...\n",
            "remote: Enumerating objects: 21, done.\u001b[K\n",
            "remote: Counting objects: 100% (21/21), done.\u001b[K\n",
            "remote: Compressing objects: 100% (18/18), done.\u001b[K\n",
            "remote: Total 21 (delta 3), reused 20 (delta 2), pack-reused 0\u001b[K\n",
            "Unpacking objects: 100% (21/21), done.\n"
          ]
        }
      ]
    },
    {
      "cell_type": "code",
      "source": [
        "Data_set = np.loadtxt('./data/ThoraricSurgery3.csv',delimiter = ',')   # 수술 환자 데이터를 불러옵니다.\n",
        "x = Data_set[:,0:16]                                                   # 환자의 진찰 기록을 x로 지정함.\n",
        "y = Data_set[:,16]      "
      ],
      "metadata": {
        "id": "lzFGSqq7UYfm"
      },
      "execution_count": 3,
      "outputs": []
    },
    {
      "cell_type": "markdown",
      "source": [
        "##  구조 결정"
      ],
      "metadata": {
        "id": "-clQqC3QUczw"
      }
    },
    {
      "cell_type": "code",
      "source": [
        "model = Sequential()                                                    \n",
        "model.add(Dense(30, input_dim = 16, activation = 'relu'))               \n",
        "# 딥러닝 모델의 구조를 결정합니다.\n",
        "# 입력변수가 위쪽에 나온 것처럼 16개이므로\n",
        "# input_dim에 16을 지정\n",
        "# 은닉층의 노드 수롤 30개로 지정 (첫번째 인수) \n",
        "# 활성화 함수를 relu로 지정"
      ],
      "metadata": {
        "id": "ZomBpwaZUbcI"
      },
      "execution_count": 4,
      "outputs": []
    },
    {
      "cell_type": "code",
      "source": [
        "model.add(Dense(1, activation = 'sigmoid'))\n",
        "# 출력층은 1개로 지정\n",
        "# 활성화 함수를 sigmoid로 지정 "
      ],
      "metadata": {
        "id": "PcAebqBGUhts"
      },
      "execution_count": 5,
      "outputs": []
    },
    {
      "cell_type": "markdown",
      "source": [
        "## 모델 실행"
      ],
      "metadata": {
        "id": "zUEkzFsrWZu-"
      }
    },
    {
      "cell_type": "code",
      "source": [
        "model.compile(loss = 'binary_crossentropy', optimizer = 'adam' , metrics = ['accuracy'])  # 딥러닝 모델을 실행\n",
        "history = model.fit(x,y, epochs = 5, batch_size = 16)\n",
        "# 정확도 약 85% "
      ],
      "metadata": {
        "colab": {
          "base_uri": "https://localhost:8080/"
        },
        "id": "teZw9E6JWWuT",
        "outputId": "51463d0d-1809-4d42-c9a6-adda6064323e"
      },
      "execution_count": 6,
      "outputs": [
        {
          "output_type": "stream",
          "name": "stdout",
          "text": [
            "Epoch 1/5\n",
            "30/30 [==============================] - 1s 2ms/step - loss: 0.6623 - accuracy: 0.8511\n",
            "Epoch 2/5\n",
            "30/30 [==============================] - 0s 2ms/step - loss: 0.4331 - accuracy: 0.8511\n",
            "Epoch 3/5\n",
            "30/30 [==============================] - 0s 2ms/step - loss: 0.4263 - accuracy: 0.8511\n",
            "Epoch 4/5\n",
            "30/30 [==============================] - 0s 2ms/step - loss: 0.4223 - accuracy: 0.8511\n",
            "Epoch 5/5\n",
            "30/30 [==============================] - 0s 2ms/step - loss: 0.4302 - accuracy: 0.8511\n"
          ]
        }
      ]
    }
  ]
}